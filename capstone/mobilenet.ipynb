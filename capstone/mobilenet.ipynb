{
 "cells": [
  {
   "cell_type": "markdown",
   "metadata": {},
   "source": [
    "# Data preparation"
   ]
  },
  {
   "cell_type": "markdown",
   "metadata": {},
   "source": [
    "## Data loading"
   ]
  },
  {
   "cell_type": "code",
   "execution_count": 10,
   "metadata": {},
   "outputs": [
    {
     "name": "stdout",
     "output_type": "stream",
     "text": [
      "There are 2 total categories: ['NORMAL', 'PNEUMONIA']\n",
      "There are 5856 total images.\n",
      "\n",
      "There are 5216 training images.\n",
      "There are 16 validation images.\n",
      "There are 624 test images.\n"
     ]
    }
   ],
   "source": [
    "#\n",
    "# Data Loading\n",
    "#\n",
    "\n",
    "from sklearn.datasets import load_files\n",
    "from keras.utils import np_utils\n",
    "import numpy as np\n",
    "from glob import glob\n",
    "\n",
    "# define function to load train, test, and validation datasets\n",
    "def load_dataset(path):\n",
    "    data = load_files(path)\n",
    "    files = np.array(data['filenames'])\n",
    "    targets = np_utils.to_categorical(np.array(data['target']), 133)\n",
    "    return files, targets\n",
    "\n",
    "# load train, test, and validation datasets\n",
    "train_files, train_targets = load_dataset('dataset/train')\n",
    "valid_files, valid_targets = load_dataset('dataset/val')\n",
    "test_files, test_targets = load_dataset('dataset/test')\n",
    "\n",
    "# load list of categories names\n",
    "category_names = [item[14:-1] for item in sorted(glob(\"dataset/train/*/\"))]\n",
    "\n",
    "# print statistics about the dataset\n",
    "print('There are %d total categories:' % len(category_names), str(category_names))\n",
    "print('There are %s total images.\\n' % len(np.hstack([train_files, valid_files, test_files])))\n",
    "print('There are %d training images.' % len(train_files))\n",
    "print('There are %d validation images.' % len(valid_files))\n",
    "print('There are %d test images.'% len(test_files))"
   ]
  },
  {
   "cell_type": "markdown",
   "metadata": {},
   "source": [
    "## Data inspection"
   ]
  },
  {
   "cell_type": "code",
   "execution_count": 11,
   "metadata": {
    "scrolled": false
   },
   "outputs": [],
   "source": [
    "#\n",
    "# Data Inspection\n",
    "#\n",
    "\n",
    "import cv2\n",
    "import matplotlib.pyplot as plt                        \n",
    "%matplotlib inline           \n",
    "\n",
    "from PIL import Image                  \n",
    "\n",
    "image_size = 224\n",
    "random_img = Image.fromarray(np.random.rand(image_size, image_size) * 255)\n",
    "random_img = random_img.convert('RGB')\n",
    "\n",
    "def path_to_image(img_path):\n",
    "    final_img = random_img.copy()  # random content image (to ensure the proper size)\n",
    "    img = Image.open(img_path)\n",
    "    img.thumbnail((image_size, image_size), Image.LANCZOS)  # rescaled image (preserves aspect ratio)\n",
    "    offset = (int((image_size - img.width)/2), int((image_size - img.height)/2))\n",
    "    final_img.paste(img, offset)\n",
    "    return final_img\n",
    "\n",
    "# display some sample images\n",
    "for i in range(0):\n",
    "    # original image\n",
    "    print(train_files[i])\n",
    "    plt.imshow(cv2.cvtColor(cv2.imread(train_files[i]), cv2.COLOR_BGR2RGB))\n",
    "    plt.show()\n",
    "    # show final image\n",
    "    plt.imshow(cv2.cvtColor(np.asarray(path_to_image(train_files[i])), cv2.COLOR_BGR2RGB))\n",
    "    plt.show()\n",
    "    "
   ]
  },
  {
   "cell_type": "markdown",
   "metadata": {},
   "source": [
    "## Data preprocessing"
   ]
  },
  {
   "cell_type": "code",
   "execution_count": 26,
   "metadata": {
    "scrolled": true
   },
   "outputs": [
    {
     "name": "stdout",
     "output_type": "stream",
     "text": [
      "Rearranged dataset already exists - nothing to do.\n"
     ]
    }
   ],
   "source": [
    "#\n",
    "# Resizing and centering images\n",
    "#\n",
    "# Note: the original 16 validation images go into the training folder\n",
    "#       a bigger validation dataset is created out of the training folder\n",
    "#\n",
    "\n",
    "import shutil, os, random\n",
    "\n",
    "valid_perc = 15\n",
    "test_perc = 15\n",
    "\n",
    "try:\n",
    "    os.mkdir('dataset/resized')\n",
    "    for folder in ['train', 'valid', 'test']:\n",
    "        os.mkdir('dataset/resized/' + folder)\n",
    "        os.mkdir('dataset/resized/' + folder + '/NORMAL')\n",
    "        os.mkdir('dataset/resized/' + folder + '/PNEUMONIA')\n",
    "    print('Created resized/ folder hierarchy...')\n",
    "\n",
    "    for infile in np.hstack([train_files, valid_files, test_files]):\n",
    "        outfile = infile.replace('train', 'resized/train').replace('val', 'resized/train').replace('test', 'resized/train')\n",
    "        path_to_image(infile).save(outfile)\n",
    "    print('Copied preprocessed images...')\n",
    "\n",
    "    for category in category_names:\n",
    "        train_files = glob(\"dataset/resized/train/\" + category + \"/*\")\n",
    "        num_files = len(train_files)\n",
    "        # validation files\n",
    "        num_valid_files = int(round(num_files * valid_perc / 100))\n",
    "        valid_files = random.sample(train_files, num_valid_files)\n",
    "        for filename in valid_files:\n",
    "            shutil.move(filename, filename.replace('train', 'valid'))\n",
    "        # test files\n",
    "        train_files = glob(\"dataset/resized/train/\" + category + \"/*\")\n",
    "        num_test_files = int(round(num_files * test_perc / 100))\n",
    "        test_files = random.sample(train_files, num_test_files)\n",
    "        for filename in test_files:\n",
    "            shutil.move(filename, filename.replace('train', 'test'))\n",
    "    print('Rearranged train, validation and test datasets into {}:{}:{} ratio...'.format(\n",
    "        int(100-valid_perc-test_perc), int(valid_perc), int(test_perc)))\n",
    "    # load train, test, and validation datasets\n",
    "    train_files, train_targets = load_dataset('dataset/resized/train')\n",
    "    valid_files, valid_targets = load_dataset('dataset/resized/valid')\n",
    "    test_files, test_targets = load_dataset('dataset/resized/test')\n",
    "except FileExistsError:\n",
    "    print('Rearranged dataset already exists - nothing to do.')"
   ]
  },
  {
   "cell_type": "markdown",
   "metadata": {},
   "source": [
    "# Transfer learning"
   ]
  },
  {
   "cell_type": "code",
   "execution_count": 15,
   "metadata": {},
   "outputs": [
    {
     "name": "stdout",
     "output_type": "stream",
     "text": [
      "_________________________________________________________________\n",
      "Layer (type)                 Output Shape              Param #   \n",
      "=================================================================\n",
      "mobilenet_1.00_224 (Model)   (None, None, None, 1024)  3228864   \n",
      "_________________________________________________________________\n",
      "dropout_4 (Dropout)          (None, None, None, 1024)  0         \n",
      "_________________________________________________________________\n",
      "dense_8 (Dense)              (None, None, None, 512)   524800    \n",
      "_________________________________________________________________\n",
      "dropout_5 (Dropout)          (None, None, None, 512)   0         \n",
      "_________________________________________________________________\n",
      "global_average_pooling2d_2 ( (None, 512)               0         \n",
      "_________________________________________________________________\n",
      "dense_9 (Dense)              (None, 128)               65664     \n",
      "_________________________________________________________________\n",
      "dense_10 (Dense)             (None, 32)                4128      \n",
      "_________________________________________________________________\n",
      "dense_11 (Dense)             (None, 1)                 33        \n",
      "=================================================================\n",
      "Total params: 3,823,489\n",
      "Trainable params: 594,625\n",
      "Non-trainable params: 3,228,864\n",
      "_________________________________________________________________\n"
     ]
    }
   ],
   "source": [
    "from tensorflow.python.keras.applications import mobilenet\n",
    "from tensorflow.python.keras.models import Sequential\n",
    "from tensorflow.python.keras.layers import Dense, Dropout, GlobalAveragePooling2D\n",
    "\n",
    "# Load the MobileNet model\n",
    "mobilenet_model = mobilenet.MobileNet(weights='imagenet', include_top=False)\n",
    "\n",
    "model = Sequential()\n",
    "\n",
    "model.add(mobilenet_model)\n",
    "for layer in model.layers:\n",
    "    layer.trainable=False\n",
    "\n",
    "# custom layers on top\n",
    "\n",
    "categorical_or_binary = 'binary'  # binary or categorical\n",
    "\n",
    "model.add(Dropout(0.5))\n",
    "model.add(Dense(512, activation='relu'))\n",
    "model.add(Dropout(0.5))\n",
    "model.add(GlobalAveragePooling2D())\n",
    "model.add(Dense(128, activation='relu'))\n",
    "model.add(Dense(32, activation='relu'))\n",
    "\n",
    "if categorical_or_binary == 'binary':\n",
    "    # Dense 1-class output - used to plot ROC curve\n",
    "    model.add(Dense(1, activation='sigmoid'))\n",
    "else:\n",
    "    # Dense for 2-class classification using SoftMax activation\n",
    "    model.add(Dense(len(category_names), activation='softmax'))\n",
    "\n",
    "#from tensorflow.python.keras import optimizers\n",
    "#sgd = optimizers.SGD(lr=0.01, decay=1e-6, momentum=0.9, nesterov=True)\n",
    "#model.compile(optimizer=sgd, loss='categorical_crossentropy', metrics=['accuracy'])\n",
    "model.compile(optimizer='adam', loss=(categorical_or_binary + '_crossentropy'), metrics=['accuracy'])\n",
    "\n",
    "model.summary()"
   ]
  },
  {
   "cell_type": "code",
   "execution_count": 16,
   "metadata": {},
   "outputs": [
    {
     "name": "stdout",
     "output_type": "stream",
     "text": [
      "Found 4100 images belonging to 2 classes.\n",
      "Found 878 images belonging to 2 classes.\n",
      "Found 878 images belonging to 2 classes.\n"
     ]
    }
   ],
   "source": [
    "from keras.applications.resnet50 import preprocess_input\n",
    "from keras.preprocessing.image import ImageDataGenerator\n",
    "\n",
    "# These steps value should be proper FACTOR of no.-of-images in train & valid folders respectively\n",
    "# NOTE that these BATCH* are for Keras ImageDataGenerator batching to fill epoch step input\n",
    "BATCH_SIZE_TRAINING = int(0.5*(100 - valid_perc))\n",
    "BATCH_SIZE_VALIDATION = int(0.5 * valid_perc)\n",
    "\n",
    "# preprocessing_function is applied on each image but only after re-sizing & augmentation (resize => augment => pre-process)\n",
    "# Each of the keras.application.resnet* preprocess_input MOSTLY mean BATCH NORMALIZATION (applied on each batch) stabilize the inputs to nonlinear activation functions\n",
    "# Batch Normalization helps in faster convergence\n",
    "data_generator = ImageDataGenerator(preprocessing_function=preprocess_input)\n",
    "\n",
    "# flow_From_directory generates batches of augmented data (where augmentation can be color conversion, etc)\n",
    "# Both train & valid folders must have NUM_CLASSES sub-folders\n",
    "train_generator = data_generator.flow_from_directory(\n",
    "        'dataset/resized/train',\n",
    "        target_size=(image_size, image_size),\n",
    "        batch_size=BATCH_SIZE_TRAINING,\n",
    "        class_mode=categorical_or_binary)\n",
    "\n",
    "validation_generator = data_generator.flow_from_directory(\n",
    "        'dataset/resized/valid',\n",
    "        target_size=(image_size, image_size),\n",
    "        batch_size=BATCH_SIZE_VALIDATION,\n",
    "        class_mode=categorical_or_binary)\n",
    "\n",
    "predict_generator = data_generator.flow_from_directory(\n",
    "        'dataset/resized/test',\n",
    "        target_size=(image_size, image_size),\n",
    "        batch_size=50,  # 100 causes ResourceExhaustedError\n",
    "        class_mode=categorical_or_binary)"
   ]
  },
  {
   "cell_type": "code",
   "execution_count": 17,
   "metadata": {},
   "outputs": [
    {
     "name": "stdout",
     "output_type": "stream",
     "text": [
      "Epoch 1/15\n",
      "85/85 [==============================] - 61s 717ms/step - loss: 0.2835 - acc: 0.8757 - val_loss: 0.2192 - val_acc: 0.8952\n",
      "Epoch 2/15\n",
      "85/85 [==============================] - 55s 649ms/step - loss: 0.1452 - acc: 0.9459 - val_loss: 0.1220 - val_acc: 0.9524\n",
      "Epoch 3/15\n",
      "85/85 [==============================] - 56s 658ms/step - loss: 0.1351 - acc: 0.9441 - val_loss: 0.0933 - val_acc: 0.9714\n",
      "Epoch 4/15\n",
      "85/85 [==============================] - 55s 649ms/step - loss: 0.1503 - acc: 0.9405 - val_loss: 0.0798 - val_acc: 0.9714\n",
      "Epoch 5/15\n",
      "85/85 [==============================] - 56s 655ms/step - loss: 0.1096 - acc: 0.9590 - val_loss: 0.0900 - val_acc: 0.9714\n",
      "Epoch 6/15\n",
      "85/85 [==============================] - 55s 647ms/step - loss: 0.0991 - acc: 0.9633 - val_loss: 0.0854 - val_acc: 0.9810\n",
      "Epoch 7/15\n",
      "85/85 [==============================] - 57s 665ms/step - loss: 0.0968 - acc: 0.9633 - val_loss: 0.0785 - val_acc: 0.9714\n",
      "Epoch 8/15\n",
      "85/85 [==============================] - 59s 698ms/step - loss: 0.0774 - acc: 0.9681 - val_loss: 0.0680 - val_acc: 0.9714\n",
      "Epoch 9/15\n",
      "85/85 [==============================] - 55s 653ms/step - loss: 0.0695 - acc: 0.9727 - val_loss: 0.0646 - val_acc: 0.9714\n",
      "Epoch 10/15\n",
      "85/85 [==============================] - 57s 668ms/step - loss: 0.0873 - acc: 0.9655 - val_loss: 0.0598 - val_acc: 0.9714\n",
      "Epoch 11/15\n",
      "85/85 [==============================] - 57s 676ms/step - loss: 0.0794 - acc: 0.9684 - val_loss: 0.1038 - val_acc: 0.9619\n",
      "Epoch 12/15\n",
      "85/85 [==============================] - 57s 673ms/step - loss: 0.0717 - acc: 0.9738 - val_loss: 0.0750 - val_acc: 0.9810\n",
      "Epoch 13/15\n",
      "85/85 [==============================] - 57s 669ms/step - loss: 0.0382 - acc: 0.9857 - val_loss: 0.0916 - val_acc: 0.9714\n",
      "Epoch 14/15\n",
      "85/85 [==============================] - 58s 680ms/step - loss: 0.0535 - acc: 0.9793 - val_loss: 0.0672 - val_acc: 0.9810\n",
      "Epoch 15/15\n",
      "85/85 [==============================] - 57s 666ms/step - loss: 0.0356 - acc: 0.9855 - val_loss: 0.1208 - val_acc: 0.9524\n"
     ]
    }
   ],
   "source": [
    "# EARLY_STOP_PATIENCE must be < NUM_EPOCHS\n",
    "NUM_EPOCHS = 15  # probably 15 is maximum useful...\n",
    "EARLY_STOP_PATIENCE = 5\n",
    "\n",
    "# These steps value should be proper FACTOR of no.-of-images in train & valid folders respectively\n",
    "# Training images processed in each step would be no.-of-train-images / STEPS_PER_EPOCH_TRAINING\n",
    "STEPS_PER_EPOCH_TRAINING = int(100 - valid_perc - test_perc)\n",
    "STEPS_PER_EPOCH_VALIDATION = int(valid_perc)\n",
    "\n",
    "# Early stopping & checkpointing the best model in ../working dir & restoring that as our model for prediction\n",
    "from tensorflow.python.keras.callbacks import EarlyStopping, ModelCheckpoint\n",
    "\n",
    "cb_early_stopper = EarlyStopping(monitor='val_loss', patience=EARLY_STOP_PATIENCE)\n",
    "cb_checkpointer = ModelCheckpoint(filepath='saved_models/best_resnet50.hdf5',\n",
    "                                  monitor='val_loss', save_best_only=True, mode='auto')\n",
    "\n",
    "fit_history = model.fit_generator(\n",
    "        train_generator,\n",
    "        steps_per_epoch=STEPS_PER_EPOCH_TRAINING,\n",
    "        epochs = NUM_EPOCHS,\n",
    "        validation_data=validation_generator,\n",
    "        validation_steps=STEPS_PER_EPOCH_VALIDATION,\n",
    "        callbacks=[cb_checkpointer, cb_early_stopper]\n",
    ")\n",
    "\n",
    "model.load_weights(\"saved_models/best_resnet50.hdf5\")"
   ]
  },
  {
   "cell_type": "code",
   "execution_count": 18,
   "metadata": {},
   "outputs": [
    {
     "name": "stdout",
     "output_type": "stream",
     "text": [
      "dict_keys(['val_loss', 'val_acc', 'loss', 'acc'])\n"
     ]
    },
    {
     "data": {
      "image/png": "[encoded data removed]",
      "text/plain": [
       "<Figure size 1080x576 with 2 Axes>"
      ]
     },
     "metadata": {
      "needs_background": "light"
     },
     "output_type": "display_data"
    }
   ],
   "source": [
    "print(fit_history.history.keys())\n",
    "\n",
    "plt.figure(1, figsize = (15,8)) \n",
    "    \n",
    "plt.subplot(221)  \n",
    "plt.plot(fit_history.history['acc'])  \n",
    "plt.plot(fit_history.history['val_acc'])  \n",
    "plt.title('model accuracy')  \n",
    "plt.ylabel('accuracy')  \n",
    "plt.xlabel('epoch')  \n",
    "plt.legend(['train', 'valid']) \n",
    "    \n",
    "plt.subplot(222)  \n",
    "plt.plot(fit_history.history['loss'])  \n",
    "plt.plot(fit_history.history['val_loss'])  \n",
    "plt.title('model loss')  \n",
    "plt.ylabel('loss')  \n",
    "plt.xlabel('epoch')  \n",
    "plt.legend(['train', 'valid']) \n",
    "\n",
    "plt.show()"
   ]
  },
  {
   "cell_type": "code",
   "execution_count": 27,
   "metadata": {},
   "outputs": [
    {
     "name": "stdout",
     "output_type": "stream",
     "text": [
      "Debug: [1 1 1 0 1 1 0 1 1 0 1 1 1 1 0 1 1 1 0 0] 878\n",
      "Debug: [1 0 1 1 1 1 1 0 1 0 1 0 1 1 1 1 1 1 1 1] 878\n"
     ]
    }
   ],
   "source": [
    "predictions = [predicted[0] for predicted in model.predict_generator(predict_generator)]\n",
    "y_pred = np.round(predictions).astype('int')\n",
    "y_test = np.argmax(test_targets, axis=1)\n",
    "print('Debug:', y_pred[:20], len(y_pred))\n",
    "print('Debug:', y_test[:20], len(y_test))"
   ]
  },
  {
   "cell_type": "code",
   "execution_count": 28,
   "metadata": {},
   "outputs": [
    {
     "name": "stdout",
     "output_type": "stream",
     "text": [
      "Test accuracy: 61.1617%\n"
     ]
    }
   ],
   "source": [
    "# report test accuracy\n",
    "test_accuracy = 100 * np.sum(y_pred==y_test) / len(y_pred)\n",
    "print('Test accuracy: %.4f%%' % test_accuracy)"
   ]
  },
  {
   "cell_type": "code",
   "execution_count": 29,
   "metadata": {},
   "outputs": [
    {
     "data": {
      "image/png": "[encoded data removed]",
      "text/plain": [
       "<Figure size 432x288 with 1 Axes>"
      ]
     },
     "metadata": {
      "needs_background": "light"
     },
     "output_type": "display_data"
    },
    {
     "data": {
      "image/png": "[encoded data removed]",
      "text/plain": [
       "<Figure size 432x288 with 1 Axes>"
      ]
     },
     "metadata": {
      "needs_background": "light"
     },
     "output_type": "display_data"
    }
   ],
   "source": [
    "#\n",
    "# ROC curve\n",
    "#\n",
    "\n",
    "from sklearn.metrics import roc_curve, auc\n",
    "\n",
    "#y_pred = predictions.ravel()\n",
    "fpr_keras, tpr_keras, thresholds_keras = roc_curve(y_test, y_pred)\n",
    "auc_keras = auc(fpr_keras, tpr_keras)\n",
    "\n",
    "plt.figure(1)\n",
    "plt.plot([0, 1], [0, 1], 'k--')\n",
    "plt.plot(fpr_keras, tpr_keras, label='Keras (area = {:.3f})'.format(auc_keras))\n",
    "plt.xlabel('False positive rate')\n",
    "plt.ylabel('True positive rate')\n",
    "plt.title('ROC curve')\n",
    "plt.legend(loc='best')\n",
    "plt.show()\n",
    "# Zoom in view of the upper left corner.\n",
    "plt.figure(2)\n",
    "plt.xlim(0, 0.2)\n",
    "plt.ylim(0.8, 1)\n",
    "plt.plot([0, 1], [0, 1], 'k--')\n",
    "plt.plot(fpr_keras, tpr_keras, label='Keras (area = {:.3f})'.format(auc_keras))\n",
    "plt.xlabel('False positive rate')\n",
    "plt.ylabel('True positive rate')\n",
    "plt.title('ROC curve (zoomed in at top left)')\n",
    "plt.legend(loc='best')\n",
    "plt.show()"
   ]
  },
  {
   "cell_type": "code",
   "execution_count": null,
   "metadata": {},
   "outputs": [],
   "source": []
  }
 ],
 "metadata": {
  "kernelspec": {
   "display_name": "Python 3",
   "language": "python",
   "name": "python3"
  },
  "language_info": {
   "codemirror_mode": {
    "name": "ipython",
    "version": 3
   },
   "file_extension": ".py",
   "mimetype": "text/x-python",
   "name": "python",
   "nbconvert_exporter": "python",
   "pygments_lexer": "ipython3",
   "version": "3.6.7"
  }
 },
 "nbformat": 4,
 "nbformat_minor": 2
}
