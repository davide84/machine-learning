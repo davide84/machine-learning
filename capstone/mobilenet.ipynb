{
 "cells": [
  {
   "cell_type": "markdown",
   "metadata": {},
   "source": [
    "# Data preparation"
   ]
  },
  {
   "cell_type": "markdown",
   "metadata": {},
   "source": [
    "## Support functions"
   ]
  },
  {
   "cell_type": "code",
   "execution_count": 1,
   "metadata": {},
   "outputs": [],
   "source": [
    "import numpy as np\n",
    "from PIL import Image                \n",
    "\n",
    "image_size = 224\n",
    "random_img = Image.fromarray(np.random.rand(image_size, image_size) * 255)\n",
    "random_img = random_img.convert('RGB')\n",
    "\n",
    "def path_to_image(img_path):\n",
    "    final_img = random_img.copy()  # random content image (to ensure the proper size)\n",
    "    img = Image.open(img_path)\n",
    "    img.thumbnail((image_size, image_size), Image.LANCZOS)  # rescaled image (preserves aspect ratio)\n",
    "    offset = (int((image_size - img.width)/2), int((image_size - img.height)/2))\n",
    "    final_img.paste(img, offset)\n",
    "    return final_img"
   ]
  },
  {
   "cell_type": "markdown",
   "metadata": {},
   "source": [
    "## Data preprocessing"
   ]
  },
  {
   "cell_type": "code",
   "execution_count": 2,
   "metadata": {
    "scrolled": true
   },
   "outputs": [
    {
     "name": "stdout",
     "output_type": "stream",
     "text": [
      "Rearranged dataset already exists - nothing to do.\n"
     ]
    }
   ],
   "source": [
    "#\n",
    "# Resizing and centering images\n",
    "#\n",
    "# Note: the original 16 validation images go into the training folder\n",
    "#       a bigger validation dataset is created out of the training folder\n",
    "#\n",
    "\n",
    "import shutil, os, random\n",
    "from glob import glob\n",
    "\n",
    "valid_perc = 20\n",
    "test_perc = 20\n",
    "\n",
    "data_orig = 'dataset/chest_xray'\n",
    "if data_orig[-1] != '/':\n",
    "    data_orig += '/'\n",
    "data_sets = [name[len(data_orig):-1] for name in glob(data_orig + '*/')]\n",
    "data_dest = 'dataset/resized/'\n",
    "\n",
    "category_names = [name[len(data_dest)+9:-1] for name in glob(data_orig + 'train/*/')]\n",
    "\n",
    "try:\n",
    "    # creating folder hierarchy\n",
    "    os.mkdir(data_dest)\n",
    "    for dataset in data_sets:\n",
    "        os.mkdir(data_dest + dataset)\n",
    "        for category in category_names:\n",
    "            os.mkdir(data_dest + dataset + '/' + category)\n",
    "    print('\\rCreated folder hierarchy...')\n",
    "\n",
    "    # resizing the images and placing them in the proper folders\n",
    "    for dataset in data_sets:\n",
    "        for category in category_names:\n",
    "            for infile in glob(data_orig + dataset + '/' + category + '/*.jpeg'):\n",
    "                print('\\rProcessing ' + infile + (30 * ' '), end='')\n",
    "                outfile = infile.replace(data_orig, data_dest).replace('val', 'train').replace('test', 'train')\n",
    "                path_to_image(infile).save(outfile)\n",
    "    print('\\rCreated folder hierarchy and copied preprocessed images...' + (30 * ' '))\n",
    "\n",
    "    for category in category_names:\n",
    "        train_files = glob(data_dest + '/train/' + category + '/*')\n",
    "        num_files = len(train_files)\n",
    "        # validation files from training folder\n",
    "        num_valid_files = int(round(num_files * valid_perc / 100))\n",
    "        valid_files = random.sample(train_files, num_valid_files)\n",
    "        for filename in valid_files:\n",
    "            shutil.move(filename, filename.replace('train', 'val'))\n",
    "        # test files from training folder\n",
    "        train_files = glob(data_dest + 'train/' + category + '/*')\n",
    "        num_test_files = int(round(num_files * test_perc / 100))\n",
    "        test_files = random.sample(train_files, num_test_files)\n",
    "        for filename in test_files:\n",
    "            shutil.move(filename, filename.replace('train', 'test'))\n",
    "    print('Rearranged train, validation and test datasets into {}:{}:{} ratio...'.format(\n",
    "        int(100 - valid_perc - test_perc), int(valid_perc), int(test_perc)))\n",
    "except FileExistsError:\n",
    "    print('Rearranged dataset already exists - nothing to do.')"
   ]
  },
  {
   "cell_type": "markdown",
   "metadata": {},
   "source": [
    "## Data inspection"
   ]
  },
  {
   "cell_type": "markdown",
   "metadata": {},
   "source": [
    "## Statistics"
   ]
  },
  {
   "cell_type": "code",
   "execution_count": 3,
   "metadata": {},
   "outputs": [
    {
     "name": "stdout",
     "output_type": "stream",
     "text": [
      "{'Original': {'val': {'PNEUMONIA': 8, 'NORMAL': 8}, 'test': {'PNEUMONIA': 390, 'NORMAL': 234}, 'train': {'PNEUMONIA': 3875, 'NORMAL': 1341}}, 'Resized': {'val': {'PNEUMONIA': 855, 'NORMAL': 317}, 'test': {'PNEUMONIA': 855, 'NORMAL': 317}, 'train': {'PNEUMONIA': 2563, 'NORMAL': 949}}}\n"
     ]
    }
   ],
   "source": [
    "#\n",
    "# Statistics\n",
    "#\n",
    "\n",
    "stats = {}\n",
    "\n",
    "# Original files\n",
    "for data in [('Original', data_orig), ('Resized', data_dest)]:\n",
    "    stats[data[0]] = {}\n",
    "    for dataset in data_sets:\n",
    "        stats[data[0]][dataset] = {}\n",
    "        for category in category_names:\n",
    "            stats[data[0]][dataset][category] = 0\n",
    "            for infile in glob(data[1] + dataset + '/' + category + '/*.jpeg'):\n",
    "                stats[data[0]][dataset][category] += 1\n",
    "\n",
    "print(stats)\n",
    "\n"
   ]
  },
  {
   "cell_type": "code",
   "execution_count": 4,
   "metadata": {
    "scrolled": false
   },
   "outputs": [],
   "source": [
    "#\n",
    "# Data Inspection\n",
    "#\n",
    "\n",
    "import cv2\n",
    "import matplotlib.pyplot as plt                        \n",
    "%matplotlib inline\n",
    "\n",
    "# display some sample images\n",
    "for i in range(0):\n",
    "    # original image\n",
    "    print(train_files[i])\n",
    "    plt.imshow(cv2.cvtColor(cv2.imread(train_files[i]), cv2.COLOR_BGR2RGB))\n",
    "    plt.show()\n",
    "    # show final image\n",
    "    plt.imshow(cv2.cvtColor(np.asarray(path_to_image(train_files[i])), cv2.COLOR_BGR2RGB))\n",
    "    plt.show()"
   ]
  },
  {
   "cell_type": "markdown",
   "metadata": {},
   "source": [
    "# Transfer learning"
   ]
  },
  {
   "cell_type": "code",
   "execution_count": 5,
   "metadata": {},
   "outputs": [
    {
     "name": "stderr",
     "output_type": "stream",
     "text": [
      "/usr/local/lib/python3.6/dist-packages/keras_applications/mobilenet.py:208: UserWarning: MobileNet shape is undefined. Weights for input shape (224, 224) will be loaded.\n",
      "  warnings.warn('MobileNet shape is undefined.'\n"
     ]
    },
    {
     "name": "stdout",
     "output_type": "stream",
     "text": [
      "_________________________________________________________________\n",
      "Layer (type)                 Output Shape              Param #   \n",
      "=================================================================\n",
      "mobilenet_1.00_224 (Model)   (None, None, None, 1024)  3228864   \n",
      "_________________________________________________________________\n",
      "dropout (Dropout)            (None, None, None, 1024)  0         \n",
      "_________________________________________________________________\n",
      "global_average_pooling2d (Gl (None, 1024)              0         \n",
      "_________________________________________________________________\n",
      "dense (Dense)                (None, 64)                65600     \n",
      "_________________________________________________________________\n",
      "dropout_1 (Dropout)          (None, 64)                0         \n",
      "_________________________________________________________________\n",
      "dense_1 (Dense)              (None, 2)                 130       \n",
      "=================================================================\n",
      "Total params: 3,294,594\n",
      "Trainable params: 65,730\n",
      "Non-trainable params: 3,228,864\n",
      "_________________________________________________________________\n"
     ]
    }
   ],
   "source": [
    "from tensorflow.python.keras.applications import mobilenet\n",
    "from tensorflow.python.keras.models import Sequential\n",
    "from tensorflow.python.keras.layers import BatchNormalization, Dense, Dropout, Flatten, GlobalAveragePooling2D\n",
    "\n",
    "# Load the MobileNet model\n",
    "mobilenet_model = mobilenet.MobileNet(weights='imagenet', include_top=False)\n",
    "\n",
    "model = Sequential()\n",
    "\n",
    "model.add(mobilenet_model)\n",
    "for layer in model.layers:\n",
    "    layer.trainable=False\n",
    "\n",
    "# custom layers on top\n",
    "model.add(Dropout(0.2))\n",
    "model.add(GlobalAveragePooling2D())\n",
    "#model.add(Dense(1024, activation='relu'))\n",
    "#model.add(Dense(512, activation='relu'))\n",
    "model.add(Dense(64, activation='relu'))\n",
    "model.add(Dropout(0.2))\n",
    "#model.add(Dense(32, activation='relu'))\n",
    "# dense for 2-class classification using softmax activation\n",
    "model.add(Dense(len(category_names), activation='softmax'))\n",
    "\n",
    "#from tensorflow.python.keras import optimizers\n",
    "#sgd = optimizers.SGD(lr=0.01, decay=1e-6, momentum=0.9, nesterov=True)\n",
    "#model.compile(optimizer=sgd, loss=('categorical_crossentropy'), metrics=['accuracy'])\n",
    "model.compile(optimizer='adam', loss=('categorical_crossentropy'), metrics=['accuracy'])\n",
    "\n",
    "model.summary()"
   ]
  },
  {
   "cell_type": "code",
   "execution_count": 6,
   "metadata": {},
   "outputs": [
    {
     "name": "stdout",
     "output_type": "stream",
     "text": [
      "Found 3512 images belonging to 2 classes.\n",
      "Found 1172 images belonging to 2 classes.\n"
     ]
    },
    {
     "name": "stderr",
     "output_type": "stream",
     "text": [
      "Using TensorFlow backend.\n"
     ]
    },
    {
     "name": "stdout",
     "output_type": "stream",
     "text": [
      "Found 1172 images belonging to 2 classes.\n",
      "Class weights: {0: 1.850368809272919, 1: 0.685134607881389}\n"
     ]
    }
   ],
   "source": [
    "from keras.applications.resnet50 import preprocess_input\n",
    "from keras.preprocessing.image import ImageDataGenerator\n",
    "\n",
    "# These steps value should be proper FACTOR of no.-of-images in train & valid folders respectively\n",
    "# NOTE that these BATCH* are for Keras ImageDataGenerator batching to fill epoch step input\n",
    "BATCH_SIZE_TRAINING = int(0.5*(100 - valid_perc))\n",
    "BATCH_SIZE_VALIDATION = int(0.5 * valid_perc)\n",
    "\n",
    "# preprocessing_function is applied on each image but only after re-sizing & augmentation (resize => augment => pre-process)\n",
    "# Each of the keras.application.resnet* preprocess_input MOSTLY mean BATCH NORMALIZATION (applied on each batch) stabilize the inputs to nonlinear activation functions\n",
    "# Batch Normalization helps in faster convergence\n",
    "data_generator = ImageDataGenerator(preprocessing_function=preprocess_input)\n",
    "# special generator for data augmentation\n",
    "data_generator_train = ImageDataGenerator(\n",
    "    #width_shift_range=10,\n",
    "    #height_shift_range=10,\n",
    "    #rotation_range=15,\n",
    "    #brightness_range=[0.8, 1.2],\n",
    "    preprocessing_function=preprocess_input)\n",
    "\n",
    "# flow_From_directory generates batches of augmented data (where augmentation can be color conversion, etc)\n",
    "# Both train & valid folders must have NUM_CLASSES sub-folders\n",
    "train_generator = data_generator_train.flow_from_directory(\n",
    "        'dataset/resized/train',\n",
    "        target_size=(image_size, image_size),\n",
    "        batch_size=BATCH_SIZE_TRAINING,\n",
    "        class_mode='categorical')\n",
    "\n",
    "validation_generator = data_generator.flow_from_directory(\n",
    "        'dataset/resized/val',\n",
    "        target_size=(image_size, image_size),\n",
    "        batch_size=BATCH_SIZE_VALIDATION,\n",
    "        class_mode='categorical')\n",
    "\n",
    "test_generator = data_generator.flow_from_directory(\n",
    "        'dataset/resized/test',\n",
    "        target_size=(image_size, image_size),\n",
    "        batch_size=50,  # 100 causes ResourceExhaustedError\n",
    "        class_mode='categorical',\n",
    "        shuffle=False)\n",
    "\n",
    "# Calculating weights to compensate class unbalance in training dataset\n",
    "from sklearn.utils.class_weight import compute_class_weight\n",
    "cat_train = train_generator.classes\n",
    "class_weights_list = compute_class_weight('balanced', np.unique(cat_train), cat_train)\n",
    "class_weights = {i: class_weights_list[i] for i in range(0, len(class_weights_list))}\n",
    "print('Class weights:', class_weights)"
   ]
  },
  {
   "cell_type": "code",
   "execution_count": 7,
   "metadata": {
    "scrolled": false
   },
   "outputs": [
    {
     "name": "stdout",
     "output_type": "stream",
     "text": [
      "Epoch 1/20\n",
      "59/60 [============================>.] - ETA: 0s - loss: 0.3181 - acc: 0.8628\n",
      "Epoch 00001: val_loss improved from inf to 0.26112, saving model to saved_models/best.mobilenet.h5\n",
      "60/60 [==============================] - 44s 729ms/step - loss: 0.3187 - acc: 0.8622 - val_loss: 0.2611 - val_acc: 0.9050\n",
      "Epoch 2/20\n",
      "59/60 [============================>.] - ETA: 0s - loss: 0.1975 - acc: 0.9267\n",
      "Epoch 00002: val_loss improved from 0.26112 to 0.21927, saving model to saved_models/best.mobilenet.h5\n",
      "60/60 [==============================] - 37s 623ms/step - loss: 0.1966 - acc: 0.9267 - val_loss: 0.2193 - val_acc: 0.9150\n",
      "Epoch 3/20\n",
      "59/60 [============================>.] - ETA: 0s - loss: 0.1648 - acc: 0.9412\n",
      "Epoch 00003: val_loss improved from 0.21927 to 0.16452, saving model to saved_models/best.mobilenet.h5\n",
      "60/60 [==============================] - 37s 619ms/step - loss: 0.1640 - acc: 0.9414 - val_loss: 0.1645 - val_acc: 0.9150\n",
      "Epoch 4/20\n",
      "59/60 [============================>.] - ETA: 0s - loss: 0.1749 - acc: 0.9297\n",
      "Epoch 00004: val_loss did not improve from 0.16452\n",
      "60/60 [==============================] - 38s 630ms/step - loss: 0.1738 - acc: 0.9304 - val_loss: 0.1663 - val_acc: 0.9250\n",
      "Epoch 5/20\n",
      "59/60 [============================>.] - ETA: 0s - loss: 0.1457 - acc: 0.9414\n",
      "Epoch 00005: val_loss improved from 0.16452 to 0.13301, saving model to saved_models/best.mobilenet.h5\n",
      "60/60 [==============================] - 37s 624ms/step - loss: 0.1450 - acc: 0.9420 - val_loss: 0.1330 - val_acc: 0.9450\n",
      "Epoch 6/20\n",
      "59/60 [============================>.] - ETA: 0s - loss: 0.1343 - acc: 0.9457\n",
      "Epoch 00006: val_loss improved from 0.13301 to 0.13230, saving model to saved_models/best.mobilenet.h5\n",
      "60/60 [==============================] - 38s 625ms/step - loss: 0.1338 - acc: 0.9466 - val_loss: 0.1323 - val_acc: 0.9450\n",
      "Epoch 7/20\n",
      "59/60 [============================>.] - ETA: 0s - loss: 0.1237 - acc: 0.9543\n",
      "Epoch 00007: val_loss did not improve from 0.13230\n",
      "60/60 [==============================] - 38s 626ms/step - loss: 0.1238 - acc: 0.9543 - val_loss: 0.3103 - val_acc: 0.8800\n",
      "Epoch 8/20\n",
      "59/60 [============================>.] - ETA: 0s - loss: 0.1162 - acc: 0.9557\n",
      "Epoch 00008: val_loss improved from 0.13230 to 0.11905, saving model to saved_models/best.mobilenet.h5\n",
      "60/60 [==============================] - 38s 629ms/step - loss: 0.1158 - acc: 0.9556 - val_loss: 0.1190 - val_acc: 0.9600\n",
      "Epoch 9/20\n",
      "59/60 [============================>.] - ETA: 0s - loss: 0.1307 - acc: 0.9475\n",
      "Epoch 00009: val_loss improved from 0.11905 to 0.11734, saving model to saved_models/best.mobilenet.h5\n",
      "60/60 [==============================] - 38s 627ms/step - loss: 0.1319 - acc: 0.9467 - val_loss: 0.1173 - val_acc: 0.9550\n",
      "Epoch 10/20\n",
      "59/60 [============================>.] - ETA: 0s - loss: 0.1037 - acc: 0.9627\n",
      "Epoch 00010: val_loss did not improve from 0.11734\n",
      "60/60 [==============================] - 38s 631ms/step - loss: 0.1038 - acc: 0.9629 - val_loss: 0.1204 - val_acc: 0.9650\n",
      "Epoch 11/20\n",
      "59/60 [============================>.] - ETA: 0s - loss: 0.1164 - acc: 0.9581\n",
      "Epoch 00011: val_loss did not improve from 0.11734\n",
      "60/60 [==============================] - 37s 619ms/step - loss: 0.1190 - acc: 0.9571 - val_loss: 0.3067 - val_acc: 0.8950\n",
      "Epoch 12/20\n",
      "59/60 [============================>.] - ETA: 0s - loss: 0.1114 - acc: 0.9568\n",
      "Epoch 00012: val_loss improved from 0.11734 to 0.10700, saving model to saved_models/best.mobilenet.h5\n",
      "60/60 [==============================] - 38s 631ms/step - loss: 0.1111 - acc: 0.9571 - val_loss: 0.1070 - val_acc: 0.9650\n",
      "Epoch 13/20\n",
      "59/60 [============================>.] - ETA: 0s - loss: 0.0768 - acc: 0.9750\n",
      "Epoch 00013: val_loss did not improve from 0.10700\n",
      "60/60 [==============================] - 37s 623ms/step - loss: 0.0777 - acc: 0.9742 - val_loss: 0.1575 - val_acc: 0.9550\n",
      "Epoch 14/20\n",
      "59/60 [============================>.] - ETA: 0s - loss: 0.0916 - acc: 0.9602\n",
      "Epoch 00014: val_loss did not improve from 0.10700\n",
      "60/60 [==============================] - 38s 627ms/step - loss: 0.0914 - acc: 0.9604 - val_loss: 0.1079 - val_acc: 0.9600\n",
      "Epoch 15/20\n",
      "59/60 [============================>.] - ETA: 0s - loss: 0.0828 - acc: 0.9682\n",
      "Epoch 00015: val_loss did not improve from 0.10700\n",
      "60/60 [==============================] - 37s 616ms/step - loss: 0.0824 - acc: 0.9683 - val_loss: 0.1261 - val_acc: 0.9550\n",
      "Epoch 16/20\n",
      "59/60 [============================>.] - ETA: 0s - loss: 0.0880 - acc: 0.9681\n",
      "Epoch 00016: val_loss did not improve from 0.10700\n",
      "60/60 [==============================] - 37s 618ms/step - loss: 0.0871 - acc: 0.9686 - val_loss: 0.1428 - val_acc: 0.9600\n",
      "Epoch 17/20\n",
      "59/60 [============================>.] - ETA: 0s - loss: 0.0864 - acc: 0.9712\n",
      "Epoch 00017: val_loss did not improve from 0.10700\n",
      "60/60 [==============================] - 37s 624ms/step - loss: 0.0856 - acc: 0.9708 - val_loss: 0.2618 - val_acc: 0.9100\n"
     ]
    }
   ],
   "source": [
    "# EARLY_STOP_PATIENCE must be < NUM_EPOCHS\n",
    "NUM_EPOCHS = 20  # probably 15 is maximum useful...\n",
    "EARLY_STOP_PATIENCE = 5\n",
    "\n",
    "# These steps value should be proper FACTOR of no.-of-images in train & valid folders respectively\n",
    "# Training images processed in each step would be no.-of-train-images / STEPS_PER_EPOCH_TRAINING\n",
    "STEPS_PER_EPOCH_TRAINING = int(100 - valid_perc - test_perc)\n",
    "STEPS_PER_EPOCH_VALIDATION = int(valid_perc)\n",
    "\n",
    "# Early stopping & checkpointing the best model in ../working dir & restoring that as our model for prediction\n",
    "from tensorflow.python.keras.callbacks import EarlyStopping, ModelCheckpoint\n",
    "\n",
    "weights_filename = 'saved_models/best.mobilenet.h5'\n",
    "\n",
    "cb_early_stopper = EarlyStopping(monitor='val_loss', patience=EARLY_STOP_PATIENCE)\n",
    "cb_checkpointer = ModelCheckpoint(filepath=weights_filename, verbose=True,\n",
    "                                  monitor='val_loss', save_best_only=True, mode='auto')\n",
    "\n",
    "fit_history = model.fit_generator(\n",
    "        train_generator,\n",
    "        steps_per_epoch=STEPS_PER_EPOCH_TRAINING,\n",
    "        epochs = NUM_EPOCHS,\n",
    "        validation_data=validation_generator,\n",
    "        validation_steps=STEPS_PER_EPOCH_VALIDATION,\n",
    "        callbacks=[cb_checkpointer, cb_early_stopper],\n",
    "        class_weight=class_weights\n",
    ")"
   ]
  },
  {
   "cell_type": "code",
   "execution_count": 8,
   "metadata": {},
   "outputs": [
    {
     "name": "stdout",
     "output_type": "stream",
     "text": [
      "dict_keys(['val_loss', 'val_acc', 'loss', 'acc'])\n"
     ]
    },
    {
     "data": {
      "image/png": "[encoded data removed]",
      "text/plain": [
       "<Figure size 1080x576 with 2 Axes>"
      ]
     },
     "metadata": {
      "needs_background": "light"
     },
     "output_type": "display_data"
    }
   ],
   "source": [
    "print(fit_history.history.keys())\n",
    "\n",
    "plt.figure(1, figsize = (15,8)) \n",
    "    \n",
    "plt.subplot(221)  \n",
    "plt.plot(fit_history.history['acc'])  \n",
    "plt.plot(fit_history.history['val_acc'])  \n",
    "plt.title('model accuracy')  \n",
    "plt.ylabel('accuracy')  \n",
    "plt.xlabel('epoch')  \n",
    "plt.legend(['train', 'valid']) \n",
    "    \n",
    "plt.subplot(222)  \n",
    "plt.plot(fit_history.history['loss'])  \n",
    "plt.plot(fit_history.history['val_loss'])  \n",
    "plt.title('model loss')  \n",
    "plt.ylabel('loss')  \n",
    "plt.xlabel('epoch')  \n",
    "plt.legend(['train', 'valid']) \n",
    "\n",
    "plt.show()"
   ]
  },
  {
   "cell_type": "code",
   "execution_count": 9,
   "metadata": {},
   "outputs": [],
   "source": [
    "model.load_weights(weights_filename)\n",
    "predictions = model.predict_generator(test_generator)"
   ]
  },
  {
   "cell_type": "code",
   "execution_count": 10,
   "metadata": {},
   "outputs": [
    {
     "name": "stdout",
     "output_type": "stream",
     "text": [
      "Debug: [0.009537397, 0.13662194, 0.36347687, 0.058552388, 0.7722563] 1172\n",
      "Debug: [0 0 0 0 1 0 0 0 0 1] [1 1 1 1 1 1 1 1 1 1] 1172\n",
      "Debug: [0 0 0 0 0 0 0 0 0 0] [1 1 1 1 1 1 1 1 1 1] 1172\n"
     ]
    }
   ],
   "source": [
    "cat_test = test_generator.classes\n",
    "y_pred = [cat_prob[1] for cat_prob in predictions]\n",
    "cat_pred = [np.argmax(cat_prob) for cat_prob in predictions]\n",
    "cat_pred = np.argmax(predictions, axis=1)\n",
    "print('Debug:', y_pred[:5], len(y_pred))\n",
    "print('Debug:', cat_pred[:10], cat_pred[-10:], len(cat_pred))\n",
    "print('Debug:', cat_test[:10], cat_test[-10:], len(cat_test))"
   ]
  },
  {
   "cell_type": "code",
   "execution_count": 11,
   "metadata": {},
   "outputs": [
    {
     "name": "stdout",
     "output_type": "stream",
     "text": [
      "Test accuracy: 95.5631%\n"
     ]
    }
   ],
   "source": [
    "# report test accuracy\n",
    "test_accuracy = 100 * np.sum(cat_pred==cat_test) / len(cat_pred)\n",
    "print('Test accuracy: %.4f%%' % test_accuracy)"
   ]
  },
  {
   "cell_type": "code",
   "execution_count": 12,
   "metadata": {},
   "outputs": [
    {
     "data": {
      "image/png": "[encoded data removed]",
      "text/plain": [
       "<Figure size 432x288 with 1 Axes>"
      ]
     },
     "metadata": {
      "needs_background": "light"
     },
     "output_type": "display_data"
    },
    {
     "data": {
      "image/png": "[encoded data removed]",
      "text/plain": [
       "<Figure size 432x288 with 1 Axes>"
      ]
     },
     "metadata": {
      "needs_background": "light"
     },
     "output_type": "display_data"
    }
   ],
   "source": [
    "#\n",
    "# ROC curve\n",
    "#\n",
    "\n",
    "from sklearn.metrics import roc_curve, auc\n",
    "\n",
    "fpr_keras, tpr_keras, thresholds_keras = roc_curve(cat_test, y_pred)\n",
    "auc_keras = auc(fpr_keras, tpr_keras)\n",
    "\n",
    "plt.figure(1)\n",
    "plt.plot([0, 1], [0, 1], 'k--')\n",
    "plt.plot(fpr_keras, tpr_keras, label='AUC = {:.3f}'.format(auc_keras))\n",
    "plt.xlabel('False positive rate')\n",
    "plt.ylabel('True positive rate')\n",
    "plt.title('ROC curve')\n",
    "plt.legend(loc='best')\n",
    "plt.show()\n",
    "# Zoom in view of the upper left corner.\n",
    "plt.figure(2)\n",
    "plt.xlim(0, 0.2)\n",
    "plt.ylim(0.8, 1)\n",
    "plt.plot([0, 1], [0, 1], 'k--')\n",
    "plt.plot(fpr_keras, tpr_keras, label='AUC = {:.3f}'.format(auc_keras))\n",
    "plt.xlabel('False positive rate')\n",
    "plt.ylabel('True positive rate')\n",
    "plt.title('ROC curve (zoomed in at top left)')\n",
    "plt.legend(loc='best')\n",
    "plt.show()"
   ]
  },
  {
   "cell_type": "code",
   "execution_count": 13,
   "metadata": {},
   "outputs": [
    {
     "name": "stdout",
     "output_type": "stream",
     "text": [
      "[[25.          2.04778157]\n",
      " [ 2.3890785  70.56313993]]\n"
     ]
    }
   ],
   "source": [
    "#\n",
    "# Confusion Matrix\n",
    "#\n",
    "\n",
    "from sklearn.metrics import confusion_matrix\n",
    "\n",
    "cm = confusion_matrix(cat_test, cat_pred)\n",
    "print(100 * cm / np.sum(cm))"
   ]
  },
  {
   "cell_type": "code",
   "execution_count": null,
   "metadata": {},
   "outputs": [],
   "source": []
  }
 ],
 "metadata": {
  "kernelspec": {
   "display_name": "Python 3",
   "language": "python",
   "name": "python3"
  },
  "language_info": {
   "codemirror_mode": {
    "name": "ipython",
    "version": 3
   },
   "file_extension": ".py",
   "mimetype": "text/x-python",
   "name": "python",
   "nbconvert_exporter": "python",
   "pygments_lexer": "ipython3",
   "version": "3.6.8"
  }
 },
 "nbformat": 4,
 "nbformat_minor": 2
}
