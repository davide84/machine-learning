{
 "cells": [
  {
   "cell_type": "markdown",
   "metadata": {},
   "source": [
    "# Data preparation"
   ]
  },
  {
   "cell_type": "markdown",
   "metadata": {},
   "source": [
    "## Data loading"
   ]
  },
  {
   "cell_type": "code",
   "execution_count": 1,
   "metadata": {},
   "outputs": [
    {
     "name": "stderr",
     "output_type": "stream",
     "text": [
      "Using TensorFlow backend.\n"
     ]
    },
    {
     "name": "stdout",
     "output_type": "stream",
     "text": [
      "There are 2 total categories: ['NORMAL', 'PNEUMONIA']\n",
      "There are 5856 total images.\n",
      "\n",
      "There are 5216 training images.\n",
      "There are 16 validation images.\n",
      "There are 624 test images.\n"
     ]
    }
   ],
   "source": [
    "#\n",
    "# Data Loading\n",
    "#\n",
    "\n",
    "from sklearn.datasets import load_files\n",
    "from keras.utils import np_utils\n",
    "import numpy as np\n",
    "from glob import glob\n",
    "\n",
    "# define function to load train, test, and validation datasets\n",
    "def load_dataset(path):\n",
    "    data = load_files(path)\n",
    "    files = np.array(data['filenames'])\n",
    "    targets = np_utils.to_categorical(np.array(data['target']), 133)\n",
    "    return files, targets\n",
    "\n",
    "# load train, test, and validation datasets\n",
    "train_files, train_targets = load_dataset('dataset/train')\n",
    "valid_files, valid_targets = load_dataset('dataset/val')\n",
    "test_files, test_targets = load_dataset('dataset/test')\n",
    "\n",
    "# load list of categories names\n",
    "category_names = [item[14:-1] for item in sorted(glob(\"dataset/train/*/\"))]\n",
    "\n",
    "# print statistics about the dataset\n",
    "print('There are %d total categories:' % len(category_names), str(category_names))\n",
    "print('There are %s total images.\\n' % len(np.hstack([train_files, valid_files, test_files])))\n",
    "print('There are %d training images.' % len(train_files))\n",
    "print('There are %d validation images.' % len(valid_files))\n",
    "print('There are %d test images.'% len(test_files))"
   ]
  },
  {
   "cell_type": "markdown",
   "metadata": {},
   "source": [
    "## Data inspection"
   ]
  },
  {
   "cell_type": "code",
   "execution_count": 2,
   "metadata": {
    "scrolled": false
   },
   "outputs": [],
   "source": [
    "#\n",
    "# Data Inspection\n",
    "#\n",
    "\n",
    "import cv2\n",
    "import matplotlib.pyplot as plt                        \n",
    "%matplotlib inline           \n",
    "\n",
    "from PIL import Image                  \n",
    "\n",
    "image_size = 224\n",
    "random_img = Image.fromarray(np.random.rand(image_size, image_size) * 255)\n",
    "random_img = random_img.convert('RGB')\n",
    "\n",
    "def path_to_image(img_path):\n",
    "    final_img = random_img.copy()  # random content image (to ensure the proper size)\n",
    "    img = Image.open(img_path)\n",
    "    img.thumbnail((image_size, image_size), Image.LANCZOS)  # rescaled image (preserves aspect ratio)\n",
    "    offset = (int((image_size - img.width)/2), int((image_size - img.height)/2))\n",
    "    final_img.paste(img, offset)\n",
    "    return final_img\n",
    "\n",
    "# display some sample images\n",
    "for i in range(0):\n",
    "    # original image\n",
    "    print(train_files[i])\n",
    "    plt.imshow(cv2.cvtColor(cv2.imread(train_files[i]), cv2.COLOR_BGR2RGB))\n",
    "    plt.show()\n",
    "    # show final image\n",
    "    plt.imshow(cv2.cvtColor(np.asarray(path_to_image(train_files[i])), cv2.COLOR_BGR2RGB))\n",
    "    plt.show()\n",
    "    "
   ]
  },
  {
   "cell_type": "markdown",
   "metadata": {},
   "source": [
    "## Data preprocessing"
   ]
  },
  {
   "cell_type": "code",
   "execution_count": 3,
   "metadata": {
    "scrolled": true
   },
   "outputs": [
    {
     "name": "stdout",
     "output_type": "stream",
     "text": [
      "Rearranged dataset already exists - nothing to do.\n",
      "Class weights: {0: 1.8485804416403786, 1: 0.6853801169590643}\n"
     ]
    }
   ],
   "source": [
    "#\n",
    "# Resizing and centering images\n",
    "#\n",
    "# Note: the original 16 validation images go into the training folder\n",
    "#       a bigger validation dataset is created out of the training folder\n",
    "#\n",
    "\n",
    "import shutil, os, random\n",
    "\n",
    "valid_perc = 20\n",
    "test_perc = 20\n",
    "\n",
    "try:\n",
    "    os.mkdir('dataset/resized')\n",
    "    for folder in ['train', 'valid', 'test']:\n",
    "        os.mkdir('dataset/resized/' + folder)\n",
    "        os.mkdir('dataset/resized/' + folder + '/NORMAL')\n",
    "        os.mkdir('dataset/resized/' + folder + '/PNEUMONIA')\n",
    "    print('Created resized/ folder hierarchy...')\n",
    "\n",
    "    for infile in np.hstack([train_files, valid_files, test_files]):\n",
    "        outfile = infile.replace('train', 'resized/train').replace('val', 'resized/train').replace('test', 'resized/train')\n",
    "        path_to_image(infile).save(outfile)\n",
    "    print('Copied preprocessed images...')\n",
    "\n",
    "    for category in category_names:\n",
    "        train_files = glob(\"dataset/resized/train/\" + category + \"/*\")\n",
    "        num_files = len(train_files)\n",
    "        # validation files\n",
    "        num_valid_files = int(round(num_files * valid_perc / 100))\n",
    "        valid_files = random.sample(train_files, num_valid_files)\n",
    "        for filename in valid_files:\n",
    "            shutil.move(filename, filename.replace('train', 'valid'))\n",
    "        # test files\n",
    "        train_files = glob(\"dataset/resized/train/\" + category + \"/*\")\n",
    "        num_test_files = int(round(num_files * test_perc / 100))\n",
    "        test_files = random.sample(train_files, num_test_files)\n",
    "        for filename in test_files:\n",
    "            shutil.move(filename, filename.replace('train', 'test'))\n",
    "    print('Rearranged train, validation and test datasets into {}:{}:{} ratio...'.format(\n",
    "        int(100-valid_perc-test_perc), int(valid_perc), int(test_perc)))\n",
    "except FileExistsError:\n",
    "    print('Rearranged dataset already exists - nothing to do.')\n",
    "\n",
    "# re-load train, test, and validation datasets\n",
    "train_files, train_targets = load_dataset('dataset/resized/train')\n",
    "valid_files, valid_targets = load_dataset('dataset/resized/valid')\n",
    "test_files, test_targets = load_dataset('dataset/resized/test')\n",
    "\n",
    "# calculate class weights so we can account for the class imbalance\n",
    "from sklearn.utils import class_weight\n",
    "\n",
    "cat_test = np.argmax(test_targets, axis=1)\n",
    "\n",
    "class_weights_list = class_weight.compute_class_weight('balanced', np.unique(cat_test), cat_test)\n",
    "class_weights = {i: class_weights_list[i] for i in range(0, len(class_weights_list))}\n",
    "print('Class weights:', class_weights)"
   ]
  },
  {
   "cell_type": "markdown",
   "metadata": {},
   "source": [
    "# Transfer learning"
   ]
  },
  {
   "cell_type": "code",
   "execution_count": 4,
   "metadata": {},
   "outputs": [
    {
     "name": "stderr",
     "output_type": "stream",
     "text": [
      "/usr/local/lib/python3.6/dist-packages/keras_applications/mobilenet.py:208: UserWarning: MobileNet shape is undefined. Weights for input shape (224, 224) will be loaded.\n",
      "  warnings.warn('MobileNet shape is undefined.'\n"
     ]
    },
    {
     "name": "stdout",
     "output_type": "stream",
     "text": [
      "_________________________________________________________________\n",
      "Layer (type)                 Output Shape              Param #   \n",
      "=================================================================\n",
      "mobilenet_1.00_224 (Model)   (None, None, None, 1024)  3228864   \n",
      "_________________________________________________________________\n",
      "global_average_pooling2d (Gl (None, 1024)              0         \n",
      "_________________________________________________________________\n",
      "dropout (Dropout)            (None, 1024)              0         \n",
      "_________________________________________________________________\n",
      "dense (Dense)                (None, 512)               524800    \n",
      "_________________________________________________________________\n",
      "dense_1 (Dense)              (None, 16)                8208      \n",
      "_________________________________________________________________\n",
      "dense_2 (Dense)              (None, 2)                 34        \n",
      "=================================================================\n",
      "Total params: 3,761,906\n",
      "Trainable params: 533,042\n",
      "Non-trainable params: 3,228,864\n",
      "_________________________________________________________________\n"
     ]
    }
   ],
   "source": [
    "from tensorflow.python.keras.applications import mobilenet\n",
    "from tensorflow.python.keras.models import Sequential\n",
    "from tensorflow.python.keras.layers import BatchNormalization, Dense, Dropout, Flatten, GlobalAveragePooling2D\n",
    "\n",
    "# Load the MobileNet model\n",
    "mobilenet_model = mobilenet.MobileNet(weights='imagenet', include_top=False)\n",
    "\n",
    "model = Sequential()\n",
    "\n",
    "model.add(mobilenet_model)\n",
    "for layer in model.layers:\n",
    "    layer.trainable=False\n",
    "\n",
    "# custom layers on top\n",
    "\n",
    "model.add(GlobalAveragePooling2D())\n",
    "model.add(Dropout(0.5))\n",
    "model.add(Dense(512, activation='relu'))\n",
    "model.add(Dense(16, activation='relu'))\n",
    "\n",
    "#model.add(BatchNormalization())\n",
    "#model.add(Dropout(0.6))\n",
    "#model.add(GlobalAveragePooling2D())\n",
    "#model.add(Dropout(0.4))\n",
    "\n",
    "'''\n",
    "x = model.output\n",
    "x = BatchNormalization()(x)\n",
    "x = Dropout(0.6)(x)\n",
    "x = GlobalAveragePooling2D()(x)\n",
    "x = Dropout(0.4)(x)\n",
    "predictions = Dense(2, activation='sigmoid')(x)\n",
    "'''\n",
    "\n",
    "# Dense for 2-class classification using SoftMax activation\n",
    "model.add(Dense(len(category_names), activation='softmax'))\n",
    "\n",
    "#from tensorflow.python.keras import optimizers\n",
    "#sgd = optimizers.SGD(lr=0.01, decay=1e-6, momentum=0.9, nesterov=True)\n",
    "#model.compile(optimizer=sgd, loss=('categorical_crossentropy'), metrics=['accuracy'])\n",
    "model.compile(optimizer='adam', loss=('categorical_crossentropy'), metrics=['accuracy'])\n",
    "\n",
    "model.summary()"
   ]
  },
  {
   "cell_type": "code",
   "execution_count": 5,
   "metadata": {},
   "outputs": [
    {
     "name": "stdout",
     "output_type": "stream",
     "text": [
      "Found 3512 images belonging to 2 classes.\n",
      "Found 1172 images belonging to 2 classes.\n",
      "Found 1172 images belonging to 2 classes.\n"
     ]
    }
   ],
   "source": [
    "from keras.applications.resnet50 import preprocess_input\n",
    "from keras.preprocessing.image import ImageDataGenerator\n",
    "\n",
    "# These steps value should be proper FACTOR of no.-of-images in train & valid folders respectively\n",
    "# NOTE that these BATCH* are for Keras ImageDataGenerator batching to fill epoch step input\n",
    "BATCH_SIZE_TRAINING = int(0.5*(100 - valid_perc))\n",
    "BATCH_SIZE_VALIDATION = int(0.5 * valid_perc)\n",
    "\n",
    "# preprocessing_function is applied on each image but only after re-sizing & augmentation (resize => augment => pre-process)\n",
    "# Each of the keras.application.resnet* preprocess_input MOSTLY mean BATCH NORMALIZATION (applied on each batch) stabilize the inputs to nonlinear activation functions\n",
    "# Batch Normalization helps in faster convergence\n",
    "data_generator = ImageDataGenerator(preprocessing_function=preprocess_input)\n",
    "\n",
    "# flow_From_directory generates batches of augmented data (where augmentation can be color conversion, etc)\n",
    "# Both train & valid folders must have NUM_CLASSES sub-folders\n",
    "train_generator = data_generator.flow_from_directory(\n",
    "        'dataset/resized/train',\n",
    "        target_size=(image_size, image_size),\n",
    "        batch_size=BATCH_SIZE_TRAINING,\n",
    "        class_mode='categorical')\n",
    "\n",
    "validation_generator = data_generator.flow_from_directory(\n",
    "        'dataset/resized/valid',\n",
    "        target_size=(image_size, image_size),\n",
    "        batch_size=BATCH_SIZE_VALIDATION,\n",
    "        class_mode='categorical')\n",
    "\n",
    "test_generator = data_generator.flow_from_directory(\n",
    "        'dataset/resized/test',\n",
    "        target_size=(image_size, image_size),\n",
    "        batch_size=50,  # 100 causes ResourceExhaustedError\n",
    "        class_mode='categorical',\n",
    "        shuffle=False)"
   ]
  },
  {
   "cell_type": "code",
   "execution_count": 6,
   "metadata": {
    "scrolled": false
   },
   "outputs": [
    {
     "name": "stdout",
     "output_type": "stream",
     "text": [
      "Epoch 1/15\n",
      "59/60 [============================>.] - ETA: 0s - loss: 0.3522 - acc: 0.8479\n",
      "Epoch 00001: val_loss improved from inf to 0.41718, saving model to saved_models/best.mobilenet.h5\n",
      "60/60 [==============================] - 42s 701ms/step - loss: 0.3486 - acc: 0.8500 - val_loss: 0.4172 - val_acc: 0.8050\n",
      "Epoch 2/15\n",
      "59/60 [============================>.] - ETA: 0s - loss: 0.1920 - acc: 0.9246\n",
      "Epoch 00002: val_loss did not improve from 0.41718\n",
      "60/60 [==============================] - 38s 637ms/step - loss: 0.1918 - acc: 0.9246 - val_loss: 0.4632 - val_acc: 0.8400\n",
      "Epoch 3/15\n",
      "59/60 [============================>.] - ETA: 0s - loss: 0.2416 - acc: 0.9038\n",
      "Epoch 00003: val_loss improved from 0.41718 to 0.16792, saving model to saved_models/best.mobilenet.h5\n",
      "60/60 [==============================] - 37s 625ms/step - loss: 0.2400 - acc: 0.9046 - val_loss: 0.1679 - val_acc: 0.9200\n",
      "Epoch 4/15\n",
      "59/60 [============================>.] - ETA: 0s - loss: 0.2228 - acc: 0.9084\n",
      "Epoch 00004: val_loss did not improve from 0.16792\n",
      "60/60 [==============================] - 37s 622ms/step - loss: 0.2232 - acc: 0.9082 - val_loss: 0.1939 - val_acc: 0.9150\n",
      "Epoch 5/15\n",
      "59/60 [============================>.] - ETA: 0s - loss: 0.2058 - acc: 0.9186\n",
      "Epoch 00005: val_loss did not improve from 0.16792\n",
      "60/60 [==============================] - 37s 623ms/step - loss: 0.2029 - acc: 0.9200 - val_loss: 0.1797 - val_acc: 0.9200\n",
      "Epoch 6/15\n",
      "59/60 [============================>.] - ETA: 0s - loss: 0.2231 - acc: 0.9085\n",
      "Epoch 00006: val_loss did not improve from 0.16792\n",
      "60/60 [==============================] - 37s 621ms/step - loss: 0.2206 - acc: 0.9096 - val_loss: 0.2161 - val_acc: 0.9050\n",
      "Epoch 7/15\n",
      "59/60 [============================>.] - ETA: 0s - loss: 0.1809 - acc: 0.9200\n",
      "Epoch 00007: val_loss improved from 0.16792 to 0.16098, saving model to saved_models/best.mobilenet.h5\n",
      "60/60 [==============================] - 38s 627ms/step - loss: 0.1804 - acc: 0.9205 - val_loss: 0.1610 - val_acc: 0.9300\n",
      "Epoch 8/15\n",
      "59/60 [============================>.] - ETA: 0s - loss: 0.1781 - acc: 0.9301\n",
      "Epoch 00008: val_loss improved from 0.16098 to 0.14053, saving model to saved_models/best.mobilenet.h5\n",
      "60/60 [==============================] - 38s 630ms/step - loss: 0.1774 - acc: 0.9308 - val_loss: 0.1405 - val_acc: 0.9500\n",
      "Epoch 9/15\n",
      "59/60 [============================>.] - ETA: 0s - loss: 0.1768 - acc: 0.9271\n",
      "Epoch 00009: val_loss did not improve from 0.14053\n",
      "60/60 [==============================] - 38s 627ms/step - loss: 0.1773 - acc: 0.9271 - val_loss: 0.1819 - val_acc: 0.9200\n",
      "Epoch 10/15\n",
      "59/60 [============================>.] - ETA: 0s - loss: 0.1813 - acc: 0.9250\n",
      "Epoch 00010: val_loss did not improve from 0.14053\n",
      "60/60 [==============================] - 38s 632ms/step - loss: 0.1846 - acc: 0.9221 - val_loss: 0.3646 - val_acc: 0.8700\n",
      "Epoch 11/15\n",
      "59/60 [============================>.] - ETA: 0s - loss: 0.1627 - acc: 0.9307\n",
      "Epoch 00011: val_loss did not improve from 0.14053\n",
      "60/60 [==============================] - 49s 811ms/step - loss: 0.1631 - acc: 0.9310 - val_loss: 0.1407 - val_acc: 0.9500\n",
      "Epoch 12/15\n",
      "59/60 [============================>.] - ETA: 0s - loss: 0.1642 - acc: 0.9280\n",
      "Epoch 00012: val_loss did not improve from 0.14053\n",
      "60/60 [==============================] - 38s 637ms/step - loss: 0.1631 - acc: 0.9288 - val_loss: 0.1648 - val_acc: 0.9300\n",
      "Epoch 13/15\n",
      "59/60 [============================>.] - ETA: 0s - loss: 0.1687 - acc: 0.9326\n",
      "Epoch 00013: val_loss did not improve from 0.14053\n",
      "60/60 [==============================] - 38s 628ms/step - loss: 0.1675 - acc: 0.9332 - val_loss: 0.1678 - val_acc: 0.9150\n"
     ]
    }
   ],
   "source": [
    "# EARLY_STOP_PATIENCE must be < NUM_EPOCHS\n",
    "NUM_EPOCHS = 15  # probably 15 is maximum useful...\n",
    "EARLY_STOP_PATIENCE = 5\n",
    "\n",
    "# These steps value should be proper FACTOR of no.-of-images in train & valid folders respectively\n",
    "# Training images processed in each step would be no.-of-train-images / STEPS_PER_EPOCH_TRAINING\n",
    "STEPS_PER_EPOCH_TRAINING = int(100 - valid_perc - test_perc)\n",
    "STEPS_PER_EPOCH_VALIDATION = int(valid_perc)\n",
    "\n",
    "# Early stopping & checkpointing the best model in ../working dir & restoring that as our model for prediction\n",
    "from tensorflow.python.keras.callbacks import EarlyStopping, ModelCheckpoint\n",
    "\n",
    "weights_filename = 'saved_models/best.mobilenet.h5'\n",
    "\n",
    "cb_early_stopper = EarlyStopping(monitor='val_loss', patience=EARLY_STOP_PATIENCE)\n",
    "cb_checkpointer = ModelCheckpoint(filepath=weights_filename, verbose=True,\n",
    "                                  monitor='val_loss', save_best_only=True, mode='auto')\n",
    "\n",
    "fit_history = model.fit_generator(\n",
    "        train_generator,\n",
    "        steps_per_epoch=STEPS_PER_EPOCH_TRAINING,\n",
    "        epochs = NUM_EPOCHS,\n",
    "        validation_data=validation_generator,\n",
    "        validation_steps=STEPS_PER_EPOCH_VALIDATION,\n",
    "        callbacks=[cb_checkpointer, cb_early_stopper],\n",
    "        class_weight=class_weights\n",
    ")"
   ]
  },
  {
   "cell_type": "code",
   "execution_count": 7,
   "metadata": {},
   "outputs": [
    {
     "name": "stdout",
     "output_type": "stream",
     "text": [
      "dict_keys(['val_loss', 'val_acc', 'loss', 'acc'])\n"
     ]
    },
    {
     "data": {
      "image/png": "[encoded data removed]",
      "text/plain": [
       "<Figure size 1080x576 with 2 Axes>"
      ]
     },
     "metadata": {
      "needs_background": "light"
     },
     "output_type": "display_data"
    }
   ],
   "source": [
    "print(fit_history.history.keys())\n",
    "\n",
    "plt.figure(1, figsize = (15,8)) \n",
    "    \n",
    "plt.subplot(221)  \n",
    "plt.plot(fit_history.history['acc'])  \n",
    "plt.plot(fit_history.history['val_acc'])  \n",
    "plt.title('model accuracy')  \n",
    "plt.ylabel('accuracy')  \n",
    "plt.xlabel('epoch')  \n",
    "plt.legend(['train', 'valid']) \n",
    "    \n",
    "plt.subplot(222)  \n",
    "plt.plot(fit_history.history['loss'])  \n",
    "plt.plot(fit_history.history['val_loss'])  \n",
    "plt.title('model loss')  \n",
    "plt.ylabel('loss')  \n",
    "plt.xlabel('epoch')  \n",
    "plt.legend(['train', 'valid']) \n",
    "\n",
    "plt.show()"
   ]
  },
  {
   "cell_type": "code",
   "execution_count": 8,
   "metadata": {},
   "outputs": [],
   "source": [
    "model.load_weights(weights_filename)\n",
    "predictions = model.predict_generator(test_generator)"
   ]
  },
  {
   "cell_type": "code",
   "execution_count": 9,
   "metadata": {},
   "outputs": [
    {
     "name": "stdout",
     "output_type": "stream",
     "text": [
      "Debug: [0.5006761, 0.1328361, 0.36231378, 0.06733176, 0.27175197] 1172\n",
      "Debug: [1 0 0 0 0 1 0 1 0 0] [1 1 1 1 1 1 1 1 1 1] 1172\n",
      "Debug: [0 0 0 0 0 0 0 0 0 0] [1 1 1 1 1 1 1 1 1 1] 1172\n"
     ]
    }
   ],
   "source": [
    "cat_test = test_generator.classes\n",
    "y_pred = [cat_prob[1] for cat_prob in predictions]\n",
    "cat_pred = [np.argmax(cat_prob) for cat_prob in predictions]\n",
    "cat_pred = np.argmax(predictions, axis=1)\n",
    "print('Debug:', y_pred[:5], len(y_pred))\n",
    "print('Debug:', cat_pred[:10], cat_pred[-10:], len(cat_pred))\n",
    "print('Debug:', cat_test[:10], cat_test[-10:], len(cat_test))"
   ]
  },
  {
   "cell_type": "code",
   "execution_count": 10,
   "metadata": {},
   "outputs": [
    {
     "name": "stdout",
     "output_type": "stream",
     "text": [
      "Test accuracy: 95.9898%\n"
     ]
    }
   ],
   "source": [
    "# report test accuracy\n",
    "test_accuracy = 100 * np.sum(cat_pred==cat_test) / len(cat_pred)\n",
    "print('Test accuracy: %.4f%%' % test_accuracy)"
   ]
  },
  {
   "cell_type": "code",
   "execution_count": 12,
   "metadata": {},
   "outputs": [
    {
     "data": {
      "image/png": "[encoded data removed]",
      "text/plain": [
       "<Figure size 432x288 with 1 Axes>"
      ]
     },
     "metadata": {
      "needs_background": "light"
     },
     "output_type": "display_data"
    },
    {
     "data": {
      "image/png": "[encoded data removed]",
      "text/plain": [
       "<Figure size 432x288 with 1 Axes>"
      ]
     },
     "metadata": {
      "needs_background": "light"
     },
     "output_type": "display_data"
    }
   ],
   "source": [
    "#\n",
    "# ROC curve\n",
    "#\n",
    "\n",
    "from sklearn.metrics import roc_curve, auc\n",
    "\n",
    "fpr_keras, tpr_keras, thresholds_keras = roc_curve(cat_test, y_pred)\n",
    "auc_keras = auc(fpr_keras, tpr_keras)\n",
    "\n",
    "plt.figure(1)\n",
    "plt.plot([0, 1], [0, 1], 'k--')\n",
    "plt.plot(fpr_keras, tpr_keras, label='Keras (area = {:.3f})'.format(auc_keras))\n",
    "plt.xlabel('False positive rate')\n",
    "plt.ylabel('True positive rate')\n",
    "plt.title('ROC curve')\n",
    "plt.legend(loc='best')\n",
    "plt.show()\n",
    "# Zoom in view of the upper left corner.\n",
    "plt.figure(2)\n",
    "plt.xlim(0, 0.2)\n",
    "plt.ylim(0.8, 1)\n",
    "plt.plot([0, 1], [0, 1], 'k--')\n",
    "plt.plot(fpr_keras, tpr_keras, label='Keras (area = {:.3f})'.format(auc_keras))\n",
    "plt.xlabel('False positive rate')\n",
    "plt.ylabel('True positive rate')\n",
    "plt.title('ROC curve (zoomed in at top left)')\n",
    "plt.legend(loc='best')\n",
    "plt.show()"
   ]
  },
  {
   "cell_type": "code",
   "execution_count": null,
   "metadata": {},
   "outputs": [],
   "source": []
  }
 ],
 "metadata": {
  "kernelspec": {
   "display_name": "Python 3",
   "language": "python",
   "name": "python3"
  },
  "language_info": {
   "codemirror_mode": {
    "name": "ipython",
    "version": 3
   },
   "file_extension": ".py",
   "mimetype": "text/x-python",
   "name": "python",
   "nbconvert_exporter": "python",
   "pygments_lexer": "ipython3",
   "version": "3.6.8"
  }
 },
 "nbformat": 4,
 "nbformat_minor": 2
}
