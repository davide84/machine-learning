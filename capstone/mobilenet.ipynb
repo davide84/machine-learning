{
 "cells": [
  {
   "cell_type": "markdown",
   "metadata": {},
   "source": [
    "# Data preparation"
   ]
  },
  {
   "cell_type": "markdown",
   "metadata": {},
   "source": [
    "## Support functions"
   ]
  },
  {
   "cell_type": "code",
   "execution_count": 1,
   "metadata": {},
   "outputs": [],
   "source": [
    "import numpy as np\n",
    "from PIL import Image                \n",
    "\n",
    "image_size = 224\n",
    "random_img = Image.fromarray(np.random.rand(image_size, image_size) * 255)\n",
    "random_img = random_img.convert('RGB')\n",
    "\n",
    "def path_to_image(img_path):\n",
    "    final_img = random_img.copy()  # random content image (to ensure the proper size)\n",
    "    img = Image.open(img_path)\n",
    "    img.thumbnail((image_size, image_size), Image.LANCZOS)  # rescaled image (preserves aspect ratio)\n",
    "    offset = (int((image_size - img.width)/2), int((image_size - img.height)/2))\n",
    "    final_img.paste(img, offset)\n",
    "    return final_img"
   ]
  },
  {
   "cell_type": "markdown",
   "metadata": {},
   "source": [
    "## Data preprocessing"
   ]
  },
  {
   "cell_type": "code",
   "execution_count": 2,
   "metadata": {
    "scrolled": true
   },
   "outputs": [
    {
     "name": "stdout",
     "output_type": "stream",
     "text": [
      "Rearranged dataset already exists - nothing to do.\n"
     ]
    }
   ],
   "source": [
    "#\n",
    "# Resizing and centering images\n",
    "#\n",
    "# Note: the original 16 validation images go into the training folder\n",
    "#       a bigger validation dataset is created out of the training folder\n",
    "#\n",
    "\n",
    "import shutil, os, random\n",
    "from glob import glob\n",
    "\n",
    "valid_perc = 20\n",
    "test_perc = 20\n",
    "\n",
    "data_orig = 'dataset'\n",
    "if data_orig[-1] != '/':\n",
    "    data_orig += '/'\n",
    "data_sets = [name[8:-1] for name in glob(data_orig + '*/')]\n",
    "data_dest = data_orig + 'resized/'\n",
    "\n",
    "category_names = [name[14:-1] for name in glob(data_orig + 'train/*/')]\n",
    "\n",
    "try:\n",
    "    # creating folder hierarchy\n",
    "    os.mkdir(data_dest)\n",
    "    for dataset in data_sets:\n",
    "        os.mkdir(data_dest + dataset)\n",
    "        for category in category_names:\n",
    "            os.mkdir(data_dest + dataset + '/' + category)\n",
    "    print('\\rCreated folder hierarchy...')\n",
    "\n",
    "    # resizing the images and placing them in the proper folders\n",
    "    for dataset in data_sets:\n",
    "        for category in category_names:\n",
    "            for infile in glob(data_orig + dataset + '/' + category + '/*.jpeg'):\n",
    "                print('\\rProcessing ' + infile + (30 * ' '), end='')\n",
    "                outfile = infile.replace(data_orig, data_dest).replace('val', 'train').replace('test', 'train')\n",
    "                path_to_image(infile).save(outfile)\n",
    "    print('\\rCreated folder hierarchy and copied preprocessed images...')\n",
    "\n",
    "    for category in category_names:\n",
    "        train_files = glob(data_dest + '/train/' + category + '/*')\n",
    "        num_files = len(train_files)\n",
    "        # validation files from training folder\n",
    "        num_valid_files = int(round(num_files * valid_perc / 100))\n",
    "        valid_files = random.sample(train_files, num_valid_files)\n",
    "        for filename in valid_files:\n",
    "            shutil.move(filename, filename.replace('train', 'val'))\n",
    "        # test files from training folder\n",
    "        train_files = glob(data_dest + 'train/' + category + '/*')\n",
    "        num_test_files = int(round(num_files * test_perc / 100))\n",
    "        test_files = random.sample(train_files, num_test_files)\n",
    "        for filename in test_files:\n",
    "            shutil.move(filename, filename.replace('train', 'test'))\n",
    "    print('Rearranged train, validation and test datasets into {}:{}:{} ratio...'.format(\n",
    "        int(100 - valid_perc - test_perc), int(valid_perc), int(test_perc)))\n",
    "except FileExistsError:\n",
    "    print('Rearranged dataset already exists - nothing to do.')"
   ]
  },
  {
   "cell_type": "markdown",
   "metadata": {},
   "source": [
    "## Data inspection"
   ]
  },
  {
   "cell_type": "code",
   "execution_count": 3,
   "metadata": {
    "scrolled": false
   },
   "outputs": [],
   "source": [
    "#\n",
    "# Data Inspection\n",
    "#\n",
    "\n",
    "import cv2\n",
    "import matplotlib.pyplot as plt                        \n",
    "%matplotlib inline\n",
    "\n",
    "# display some sample images\n",
    "for i in range(0):\n",
    "    # original image\n",
    "    print(train_files[i])\n",
    "    plt.imshow(cv2.cvtColor(cv2.imread(train_files[i]), cv2.COLOR_BGR2RGB))\n",
    "    plt.show()\n",
    "    # show final image\n",
    "    plt.imshow(cv2.cvtColor(np.asarray(path_to_image(train_files[i])), cv2.COLOR_BGR2RGB))\n",
    "    plt.show()"
   ]
  },
  {
   "cell_type": "markdown",
   "metadata": {},
   "source": [
    "# Transfer learning"
   ]
  },
  {
   "cell_type": "code",
   "execution_count": 4,
   "metadata": {},
   "outputs": [
    {
     "name": "stderr",
     "output_type": "stream",
     "text": [
      "/usr/local/lib/python3.6/dist-packages/keras_applications/mobilenet.py:208: UserWarning: MobileNet shape is undefined. Weights for input shape (224, 224) will be loaded.\n",
      "  warnings.warn('MobileNet shape is undefined.'\n"
     ]
    },
    {
     "name": "stdout",
     "output_type": "stream",
     "text": [
      "_________________________________________________________________\n",
      "Layer (type)                 Output Shape              Param #   \n",
      "=================================================================\n",
      "mobilenet_1.00_224 (Model)   (None, None, None, 1024)  3228864   \n",
      "_________________________________________________________________\n",
      "global_average_pooling2d (Gl (None, 1024)              0         \n",
      "_________________________________________________________________\n",
      "dense (Dense)                (None, 512)               524800    \n",
      "_________________________________________________________________\n",
      "dropout (Dropout)            (None, 512)               0         \n",
      "_________________________________________________________________\n",
      "dense_1 (Dense)              (None, 64)                32832     \n",
      "_________________________________________________________________\n",
      "dropout_1 (Dropout)          (None, 64)                0         \n",
      "_________________________________________________________________\n",
      "dense_2 (Dense)              (None, 2)                 130       \n",
      "=================================================================\n",
      "Total params: 3,786,626\n",
      "Trainable params: 557,762\n",
      "Non-trainable params: 3,228,864\n",
      "_________________________________________________________________\n"
     ]
    }
   ],
   "source": [
    "from tensorflow.python.keras.applications import mobilenet\n",
    "from tensorflow.python.keras.models import Sequential\n",
    "from tensorflow.python.keras.layers import BatchNormalization, Dense, Dropout, Flatten, GlobalAveragePooling2D\n",
    "\n",
    "# Load the MobileNet model\n",
    "mobilenet_model = mobilenet.MobileNet(weights='imagenet', include_top=False)\n",
    "\n",
    "model = Sequential()\n",
    "\n",
    "model.add(mobilenet_model)\n",
    "for layer in model.layers:\n",
    "    layer.trainable=False\n",
    "\n",
    "# custom layers on top\n",
    "model.add(GlobalAveragePooling2D())\n",
    "model.add(Dense(512, activation='relu'))\n",
    "model.add(Dropout(0.4))\n",
    "model.add(Dense(64, activation='relu'))\n",
    "model.add(Dropout(0.4))\n",
    "# dense for 2-class classification using softmax activation\n",
    "model.add(Dense(len(category_names), activation='softmax'))\n",
    "\n",
    "#from tensorflow.python.keras import optimizers\n",
    "#sgd = optimizers.SGD(lr=0.01, decay=1e-6, momentum=0.9, nesterov=True)\n",
    "#model.compile(optimizer=sgd, loss=('categorical_crossentropy'), metrics=['accuracy'])\n",
    "model.compile(optimizer='adam', loss=('categorical_crossentropy'), metrics=['accuracy'])\n",
    "\n",
    "model.summary()"
   ]
  },
  {
   "cell_type": "code",
   "execution_count": 5,
   "metadata": {},
   "outputs": [
    {
     "name": "stdout",
     "output_type": "stream",
     "text": [
      "Found 3512 images belonging to 2 classes.\n",
      "Found 1172 images belonging to 2 classes.\n"
     ]
    },
    {
     "name": "stderr",
     "output_type": "stream",
     "text": [
      "Using TensorFlow backend.\n"
     ]
    },
    {
     "name": "stdout",
     "output_type": "stream",
     "text": [
      "Found 1172 images belonging to 2 classes.\n",
      "Class weights: {0: 1.850368809272919, 1: 0.685134607881389}\n"
     ]
    }
   ],
   "source": [
    "from keras.applications.resnet50 import preprocess_input\n",
    "from keras.preprocessing.image import ImageDataGenerator\n",
    "\n",
    "# These steps value should be proper FACTOR of no.-of-images in train & valid folders respectively\n",
    "# NOTE that these BATCH* are for Keras ImageDataGenerator batching to fill epoch step input\n",
    "BATCH_SIZE_TRAINING = int(0.5*(100 - valid_perc))\n",
    "BATCH_SIZE_VALIDATION = int(0.5 * valid_perc)\n",
    "\n",
    "# preprocessing_function is applied on each image but only after re-sizing & augmentation (resize => augment => pre-process)\n",
    "# Each of the keras.application.resnet* preprocess_input MOSTLY mean BATCH NORMALIZATION (applied on each batch) stabilize the inputs to nonlinear activation functions\n",
    "# Batch Normalization helps in faster convergence\n",
    "data_generator = ImageDataGenerator(preprocessing_function=preprocess_input)\n",
    "\n",
    "# flow_From_directory generates batches of augmented data (where augmentation can be color conversion, etc)\n",
    "# Both train & valid folders must have NUM_CLASSES sub-folders\n",
    "train_generator = data_generator.flow_from_directory(\n",
    "        'dataset/resized/train',\n",
    "        target_size=(image_size, image_size),\n",
    "        batch_size=BATCH_SIZE_TRAINING,\n",
    "        class_mode='categorical')\n",
    "\n",
    "validation_generator = data_generator.flow_from_directory(\n",
    "        'dataset/resized/val',\n",
    "        target_size=(image_size, image_size),\n",
    "        batch_size=BATCH_SIZE_VALIDATION,\n",
    "        class_mode='categorical')\n",
    "\n",
    "test_generator = data_generator.flow_from_directory(\n",
    "        'dataset/resized/test',\n",
    "        target_size=(image_size, image_size),\n",
    "        batch_size=50,  # 100 causes ResourceExhaustedError\n",
    "        class_mode='categorical',\n",
    "        shuffle=False)\n",
    "\n",
    "# Calculating weights to compensate class unbalance in training dataset\n",
    "from sklearn.utils.class_weight import compute_class_weight\n",
    "cat_train = train_generator.classes\n",
    "class_weights_list = compute_class_weight('balanced', np.unique(cat_train), cat_train)\n",
    "class_weights = {i: class_weights_list[i] for i in range(0, len(class_weights_list))}\n",
    "print('Class weights:', class_weights)"
   ]
  },
  {
   "cell_type": "code",
   "execution_count": 6,
   "metadata": {
    "scrolled": false
   },
   "outputs": [
    {
     "name": "stdout",
     "output_type": "stream",
     "text": [
      "Epoch 1/20\n",
      "59/60 [============================>.] - ETA: 0s - loss: 0.4060 - acc: 0.8360\n",
      "Epoch 00001: val_loss improved from inf to 0.32040, saving model to saved_models/best.mobilenet.h5\n",
      "60/60 [==============================] - 44s 732ms/step - loss: 0.4030 - acc: 0.8379 - val_loss: 0.3204 - val_acc: 0.8050\n",
      "Epoch 2/20\n",
      "59/60 [============================>.] - ETA: 0s - loss: 0.2341 - acc: 0.9104\n",
      "Epoch 00002: val_loss improved from 0.32040 to 0.21480, saving model to saved_models/best.mobilenet.h5\n",
      "60/60 [==============================] - 38s 641ms/step - loss: 0.2341 - acc: 0.9102 - val_loss: 0.2148 - val_acc: 0.9250\n",
      "Epoch 3/20\n",
      "59/60 [============================>.] - ETA: 0s - loss: 0.1943 - acc: 0.9232\n",
      "Epoch 00003: val_loss improved from 0.21480 to 0.14143, saving model to saved_models/best.mobilenet.h5\n",
      "60/60 [==============================] - 37s 623ms/step - loss: 0.1948 - acc: 0.9232 - val_loss: 0.1414 - val_acc: 0.9600\n",
      "Epoch 4/20\n",
      "59/60 [============================>.] - ETA: 0s - loss: 0.1819 - acc: 0.9265\n",
      "Epoch 00004: val_loss improved from 0.14143 to 0.08700, saving model to saved_models/best.mobilenet.h5\n",
      "60/60 [==============================] - 37s 623ms/step - loss: 0.1806 - acc: 0.9269 - val_loss: 0.0870 - val_acc: 0.9600\n",
      "Epoch 5/20\n",
      "59/60 [============================>.] - ETA: 0s - loss: 0.1413 - acc: 0.9415\n",
      "Epoch 00005: val_loss did not improve from 0.08700\n",
      "60/60 [==============================] - 37s 615ms/step - loss: 0.1400 - acc: 0.9425 - val_loss: 0.1065 - val_acc: 0.9550\n",
      "Epoch 6/20\n",
      "59/60 [============================>.] - ETA: 0s - loss: 0.1585 - acc: 0.9386\n",
      "Epoch 00006: val_loss improved from 0.08700 to 0.07885, saving model to saved_models/best.mobilenet.h5\n",
      "60/60 [==============================] - 37s 618ms/step - loss: 0.1577 - acc: 0.9388 - val_loss: 0.0788 - val_acc: 0.9550\n",
      "Epoch 7/20\n",
      "59/60 [============================>.] - ETA: 0s - loss: 0.1473 - acc: 0.9436\n",
      "Epoch 00007: val_loss improved from 0.07885 to 0.07189, saving model to saved_models/best.mobilenet.h5\n",
      "60/60 [==============================] - 37s 613ms/step - loss: 0.1460 - acc: 0.9446 - val_loss: 0.0719 - val_acc: 0.9650\n",
      "Epoch 8/20\n",
      "59/60 [============================>.] - ETA: 0s - loss: 0.1429 - acc: 0.9428\n",
      "Epoch 00008: val_loss did not improve from 0.07189\n",
      "60/60 [==============================] - 37s 621ms/step - loss: 0.1416 - acc: 0.9438 - val_loss: 0.0812 - val_acc: 0.9600\n",
      "Epoch 9/20\n",
      "59/60 [============================>.] - ETA: 0s - loss: 0.1464 - acc: 0.9427\n",
      "Epoch 00009: val_loss did not improve from 0.07189\n",
      "60/60 [==============================] - 37s 610ms/step - loss: 0.1462 - acc: 0.9428 - val_loss: 0.1519 - val_acc: 0.9450\n",
      "Epoch 10/20\n",
      "59/60 [============================>.] - ETA: 0s - loss: 0.1211 - acc: 0.9538\n",
      "Epoch 00010: val_loss did not improve from 0.07189\n",
      "60/60 [==============================] - 37s 616ms/step - loss: 0.1271 - acc: 0.9529 - val_loss: 0.0790 - val_acc: 0.9600\n",
      "Epoch 11/20\n",
      "59/60 [============================>.] - ETA: 0s - loss: 0.1146 - acc: 0.9537\n",
      "Epoch 00011: val_loss improved from 0.07189 to 0.05597, saving model to saved_models/best.mobilenet.h5\n",
      "60/60 [==============================] - 37s 616ms/step - loss: 0.1147 - acc: 0.9532 - val_loss: 0.0560 - val_acc: 0.9800\n",
      "Epoch 12/20\n",
      "59/60 [============================>.] - ETA: 0s - loss: 0.1137 - acc: 0.9568\n",
      "Epoch 00012: val_loss did not improve from 0.05597\n",
      "60/60 [==============================] - 37s 613ms/step - loss: 0.1163 - acc: 0.9563 - val_loss: 0.0859 - val_acc: 0.9650\n",
      "Epoch 13/20\n",
      "59/60 [============================>.] - ETA: 0s - loss: 0.1070 - acc: 0.9597\n",
      "Epoch 00013: val_loss did not improve from 0.05597\n",
      "60/60 [==============================] - 38s 627ms/step - loss: 0.1063 - acc: 0.9600 - val_loss: 0.0805 - val_acc: 0.9600\n",
      "Epoch 14/20\n",
      "59/60 [============================>.] - ETA: 0s - loss: 0.1038 - acc: 0.9585\n",
      "Epoch 00014: val_loss did not improve from 0.05597\n",
      "60/60 [==============================] - 37s 613ms/step - loss: 0.1028 - acc: 0.9592 - val_loss: 0.0810 - val_acc: 0.9700\n",
      "Epoch 15/20\n",
      "59/60 [============================>.] - ETA: 0s - loss: 0.0947 - acc: 0.9605\n",
      "Epoch 00015: val_loss did not improve from 0.05597\n",
      "60/60 [==============================] - 36s 608ms/step - loss: 0.0962 - acc: 0.9599 - val_loss: 0.0610 - val_acc: 0.9800\n",
      "Epoch 16/20\n",
      "59/60 [============================>.] - ETA: 0s - loss: 0.0909 - acc: 0.9627\n",
      "Epoch 00016: val_loss did not improve from 0.05597\n",
      "60/60 [==============================] - 37s 612ms/step - loss: 0.0908 - acc: 0.9625 - val_loss: 0.1191 - val_acc: 0.9400\n"
     ]
    }
   ],
   "source": [
    "# EARLY_STOP_PATIENCE must be < NUM_EPOCHS\n",
    "NUM_EPOCHS = 20  # probably 15 is maximum useful...\n",
    "EARLY_STOP_PATIENCE = 5\n",
    "\n",
    "# These steps value should be proper FACTOR of no.-of-images in train & valid folders respectively\n",
    "# Training images processed in each step would be no.-of-train-images / STEPS_PER_EPOCH_TRAINING\n",
    "STEPS_PER_EPOCH_TRAINING = int(100 - valid_perc - test_perc)\n",
    "STEPS_PER_EPOCH_VALIDATION = int(valid_perc)\n",
    "\n",
    "# Early stopping & checkpointing the best model in ../working dir & restoring that as our model for prediction\n",
    "from tensorflow.python.keras.callbacks import EarlyStopping, ModelCheckpoint\n",
    "\n",
    "weights_filename = 'saved_models/best.mobilenet.h5'\n",
    "\n",
    "cb_early_stopper = EarlyStopping(monitor='val_loss', patience=EARLY_STOP_PATIENCE)\n",
    "cb_checkpointer = ModelCheckpoint(filepath=weights_filename, verbose=True,\n",
    "                                  monitor='val_loss', save_best_only=True, mode='auto')\n",
    "\n",
    "fit_history = model.fit_generator(\n",
    "        train_generator,\n",
    "        steps_per_epoch=STEPS_PER_EPOCH_TRAINING,\n",
    "        epochs = NUM_EPOCHS,\n",
    "        validation_data=validation_generator,\n",
    "        validation_steps=STEPS_PER_EPOCH_VALIDATION,\n",
    "        callbacks=[cb_checkpointer, cb_early_stopper],\n",
    "        class_weight=class_weights\n",
    ")"
   ]
  },
  {
   "cell_type": "code",
   "execution_count": 7,
   "metadata": {},
   "outputs": [
    {
     "name": "stdout",
     "output_type": "stream",
     "text": [
      "dict_keys(['val_loss', 'val_acc', 'loss', 'acc'])\n"
     ]
    },
    {
     "data": {
      "image/png": "[encoded data removed]",
      "text/plain": [
       "<Figure size 1080x576 with 2 Axes>"
      ]
     },
     "metadata": {
      "needs_background": "light"
     },
     "output_type": "display_data"
    }
   ],
   "source": [
    "print(fit_history.history.keys())\n",
    "\n",
    "plt.figure(1, figsize = (15,8)) \n",
    "    \n",
    "plt.subplot(221)  \n",
    "plt.plot(fit_history.history['acc'])  \n",
    "plt.plot(fit_history.history['val_acc'])  \n",
    "plt.title('model accuracy')  \n",
    "plt.ylabel('accuracy')  \n",
    "plt.xlabel('epoch')  \n",
    "plt.legend(['train', 'valid']) \n",
    "    \n",
    "plt.subplot(222)  \n",
    "plt.plot(fit_history.history['loss'])  \n",
    "plt.plot(fit_history.history['val_loss'])  \n",
    "plt.title('model loss')  \n",
    "plt.ylabel('loss')  \n",
    "plt.xlabel('epoch')  \n",
    "plt.legend(['train', 'valid']) \n",
    "\n",
    "plt.show()"
   ]
  },
  {
   "cell_type": "code",
   "execution_count": 8,
   "metadata": {},
   "outputs": [],
   "source": [
    "model.load_weights(weights_filename)\n",
    "predictions = model.predict_generator(test_generator)"
   ]
  },
  {
   "cell_type": "code",
   "execution_count": 9,
   "metadata": {},
   "outputs": [
    {
     "name": "stdout",
     "output_type": "stream",
     "text": [
      "Debug: [0.0006121502, 0.009202177, 0.801813, 0.004642924, 0.004365094] 1172\n",
      "Debug: [0 0 1 0 0 0 0 0 0 0] [1 1 1 1 1 1 1 1 1 1] 1172\n",
      "Debug: [0 0 0 0 0 0 0 0 0 0] [1 1 1 1 1 1 1 1 1 1] 1172\n"
     ]
    }
   ],
   "source": [
    "cat_test = test_generator.classes\n",
    "y_pred = [cat_prob[1] for cat_prob in predictions]\n",
    "cat_pred = [np.argmax(cat_prob) for cat_prob in predictions]\n",
    "cat_pred = np.argmax(predictions, axis=1)\n",
    "print('Debug:', y_pred[:5], len(y_pred))\n",
    "print('Debug:', cat_pred[:10], cat_pred[-10:], len(cat_pred))\n",
    "print('Debug:', cat_test[:10], cat_test[-10:], len(cat_test))"
   ]
  },
  {
   "cell_type": "code",
   "execution_count": 10,
   "metadata": {},
   "outputs": [
    {
     "name": "stdout",
     "output_type": "stream",
     "text": [
      "Test accuracy: 96.0751%\n"
     ]
    }
   ],
   "source": [
    "# report test accuracy\n",
    "test_accuracy = 100 * np.sum(cat_pred==cat_test) / len(cat_pred)\n",
    "print('Test accuracy: %.4f%%' % test_accuracy)"
   ]
  },
  {
   "cell_type": "code",
   "execution_count": 11,
   "metadata": {},
   "outputs": [
    {
     "data": {
      "image/png": "[encoded data removed]",
      "text/plain": [
       "<Figure size 432x288 with 1 Axes>"
      ]
     },
     "metadata": {
      "needs_background": "light"
     },
     "output_type": "display_data"
    },
    {
     "data": {
      "image/png": "[encoded data removed]",
      "text/plain": [
       "<Figure size 432x288 with 1 Axes>"
      ]
     },
     "metadata": {
      "needs_background": "light"
     },
     "output_type": "display_data"
    }
   ],
   "source": [
    "#\n",
    "# ROC curve\n",
    "#\n",
    "\n",
    "from sklearn.metrics import roc_curve, auc\n",
    "\n",
    "fpr_keras, tpr_keras, thresholds_keras = roc_curve(cat_test, y_pred)\n",
    "auc_keras = auc(fpr_keras, tpr_keras)\n",
    "\n",
    "plt.figure(1)\n",
    "plt.plot([0, 1], [0, 1], 'k--')\n",
    "plt.plot(fpr_keras, tpr_keras, label='AUC = {:.3f}'.format(auc_keras))\n",
    "plt.xlabel('False positive rate')\n",
    "plt.ylabel('True positive rate')\n",
    "plt.title('ROC curve')\n",
    "plt.legend(loc='best')\n",
    "plt.show()\n",
    "# Zoom in view of the upper left corner.\n",
    "plt.figure(2)\n",
    "plt.xlim(0, 0.2)\n",
    "plt.ylim(0.8, 1)\n",
    "plt.plot([0, 1], [0, 1], 'k--')\n",
    "plt.plot(fpr_keras, tpr_keras, label='AUC = {:.3f}'.format(auc_keras))\n",
    "plt.xlabel('False positive rate')\n",
    "plt.ylabel('True positive rate')\n",
    "plt.title('ROC curve (zoomed in at top left)')\n",
    "plt.legend(loc='best')\n",
    "plt.show()"
   ]
  },
  {
   "cell_type": "code",
   "execution_count": 12,
   "metadata": {},
   "outputs": [
    {
     "name": "stdout",
     "output_type": "stream",
     "text": [
      "[[0.25255973 0.01791809]\n",
      " [0.02133106 0.70819113]]\n"
     ]
    }
   ],
   "source": [
    "#\n",
    "# Confusion Matrix\n",
    "#\n",
    "\n",
    "from sklearn.metrics import confusion_matrix\n",
    "\n",
    "cm = confusion_matrix(cat_test, cat_pred)\n",
    "print(cm / np.sum(cm))"
   ]
  },
  {
   "cell_type": "code",
   "execution_count": null,
   "metadata": {},
   "outputs": [],
   "source": []
  }
 ],
 "metadata": {
  "kernelspec": {
   "display_name": "Python 3",
   "language": "python",
   "name": "python3"
  },
  "language_info": {
   "codemirror_mode": {
    "name": "ipython",
    "version": 3
   },
   "file_extension": ".py",
   "mimetype": "text/x-python",
   "name": "python",
   "nbconvert_exporter": "python",
   "pygments_lexer": "ipython3",
   "version": "3.6.8"
  }
 },
 "nbformat": 4,
 "nbformat_minor": 2
}
